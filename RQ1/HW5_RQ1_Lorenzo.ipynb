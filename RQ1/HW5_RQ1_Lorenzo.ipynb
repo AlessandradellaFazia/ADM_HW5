{
 "cells": [
  {
   "cell_type": "markdown",
   "metadata": {},
   "source": [
    "## RQ1 "
   ]
  },
  {
   "cell_type": "markdown",
   "metadata": {},
   "source": [
    "#### Dataset organization"
   ]
  },
  {
   "cell_type": "code",
   "execution_count": 2,
   "metadata": {},
   "outputs": [],
   "source": [
    "import networkx as nx\n",
    "import pandas as pd"
   ]
  },
  {
   "cell_type": "code",
   "execution_count": 96,
   "metadata": {},
   "outputs": [],
   "source": [
    "wiki_graph = pd.read_csv(\"wikigraph_reduced.csv\", sep='\\t')"
   ]
  },
  {
   "cell_type": "code",
   "execution_count": 97,
   "metadata": {},
   "outputs": [
    {
     "data": {
      "text/plain": [
       "Index(['Unnamed: 0', '0', '1'], dtype='object')"
      ]
     },
     "execution_count": 97,
     "metadata": {},
     "output_type": "execute_result"
    }
   ],
   "source": [
    "wiki_graph.columns"
   ]
  },
  {
   "cell_type": "code",
   "execution_count": 98,
   "metadata": {},
   "outputs": [
    {
     "data": {
      "text/html": [
       "<div>\n",
       "<style scoped>\n",
       "    .dataframe tbody tr th:only-of-type {\n",
       "        vertical-align: middle;\n",
       "    }\n",
       "\n",
       "    .dataframe tbody tr th {\n",
       "        vertical-align: top;\n",
       "    }\n",
       "\n",
       "    .dataframe thead th {\n",
       "        text-align: right;\n",
       "    }\n",
       "</style>\n",
       "<table border=\"1\" class=\"dataframe\">\n",
       "  <thead>\n",
       "    <tr style=\"text-align: right;\">\n",
       "      <th></th>\n",
       "      <th>Unnamed: 0</th>\n",
       "      <th>0</th>\n",
       "      <th>1</th>\n",
       "    </tr>\n",
       "  </thead>\n",
       "  <tbody>\n",
       "    <tr>\n",
       "      <th>0</th>\n",
       "      <td>796</td>\n",
       "      <td>95</td>\n",
       "      <td>1185516</td>\n",
       "    </tr>\n",
       "    <tr>\n",
       "      <th>1</th>\n",
       "      <td>909</td>\n",
       "      <td>108</td>\n",
       "      <td>1059989</td>\n",
       "    </tr>\n",
       "    <tr>\n",
       "      <th>2</th>\n",
       "      <td>910</td>\n",
       "      <td>108</td>\n",
       "      <td>1062426</td>\n",
       "    </tr>\n",
       "    <tr>\n",
       "      <th>3</th>\n",
       "      <td>911</td>\n",
       "      <td>108</td>\n",
       "      <td>1161925</td>\n",
       "    </tr>\n",
       "    <tr>\n",
       "      <th>4</th>\n",
       "      <td>1141</td>\n",
       "      <td>134</td>\n",
       "      <td>541222</td>\n",
       "    </tr>\n",
       "    <tr>\n",
       "      <th>...</th>\n",
       "      <td>...</td>\n",
       "      <td>...</td>\n",
       "      <td>...</td>\n",
       "    </tr>\n",
       "    <tr>\n",
       "      <th>483089</th>\n",
       "      <td>28511768</td>\n",
       "      <td>1791481</td>\n",
       "      <td>1060990</td>\n",
       "    </tr>\n",
       "    <tr>\n",
       "      <th>483090</th>\n",
       "      <td>28511769</td>\n",
       "      <td>1791481</td>\n",
       "      <td>1061382</td>\n",
       "    </tr>\n",
       "    <tr>\n",
       "      <th>483091</th>\n",
       "      <td>28511771</td>\n",
       "      <td>1791481</td>\n",
       "      <td>1110380</td>\n",
       "    </tr>\n",
       "    <tr>\n",
       "      <th>483092</th>\n",
       "      <td>28511772</td>\n",
       "      <td>1791482</td>\n",
       "      <td>80740</td>\n",
       "    </tr>\n",
       "    <tr>\n",
       "      <th>483093</th>\n",
       "      <td>28511785</td>\n",
       "      <td>1791484</td>\n",
       "      <td>235100</td>\n",
       "    </tr>\n",
       "  </tbody>\n",
       "</table>\n",
       "<p>483094 rows × 3 columns</p>\n",
       "</div>"
      ],
      "text/plain": [
       "        Unnamed: 0        0        1\n",
       "0              796       95  1185516\n",
       "1              909      108  1059989\n",
       "2              910      108  1062426\n",
       "3              911      108  1161925\n",
       "4             1141      134   541222\n",
       "...            ...      ...      ...\n",
       "483089    28511768  1791481  1060990\n",
       "483090    28511769  1791481  1061382\n",
       "483091    28511771  1791481  1110380\n",
       "483092    28511772  1791482    80740\n",
       "483093    28511785  1791484   235100\n",
       "\n",
       "[483094 rows x 3 columns]"
      ]
     },
     "execution_count": 98,
     "metadata": {},
     "output_type": "execute_result"
    }
   ],
   "source": [
    "wiki_graph"
   ]
  },
  {
   "cell_type": "code",
   "execution_count": 99,
   "metadata": {},
   "outputs": [],
   "source": [
    "wiki_graph.rename(columns={'Unnamed: 0':'Edge ID',\n",
    "                          '0':'Source Link',\n",
    "                          '1':'Target Link'},\n",
    "                 inplace=True)"
   ]
  },
  {
   "cell_type": "code",
   "execution_count": 101,
   "metadata": {},
   "outputs": [],
   "source": [
    "#Wikigraph reduced DataFrame\n",
    "\n",
    "wiki_graph = wiki_graph.set_index('Edge ID')"
   ]
  },
  {
   "cell_type": "code",
   "execution_count": 102,
   "metadata": {},
   "outputs": [
    {
     "data": {
      "text/html": [
       "<div>\n",
       "<style scoped>\n",
       "    .dataframe tbody tr th:only-of-type {\n",
       "        vertical-align: middle;\n",
       "    }\n",
       "\n",
       "    .dataframe tbody tr th {\n",
       "        vertical-align: top;\n",
       "    }\n",
       "\n",
       "    .dataframe thead th {\n",
       "        text-align: right;\n",
       "    }\n",
       "</style>\n",
       "<table border=\"1\" class=\"dataframe\">\n",
       "  <thead>\n",
       "    <tr style=\"text-align: right;\">\n",
       "      <th></th>\n",
       "      <th>Source Link</th>\n",
       "      <th>Target Link</th>\n",
       "    </tr>\n",
       "    <tr>\n",
       "      <th>Edge ID</th>\n",
       "      <th></th>\n",
       "      <th></th>\n",
       "    </tr>\n",
       "  </thead>\n",
       "  <tbody>\n",
       "    <tr>\n",
       "      <th>796</th>\n",
       "      <td>95</td>\n",
       "      <td>1185516</td>\n",
       "    </tr>\n",
       "    <tr>\n",
       "      <th>909</th>\n",
       "      <td>108</td>\n",
       "      <td>1059989</td>\n",
       "    </tr>\n",
       "    <tr>\n",
       "      <th>910</th>\n",
       "      <td>108</td>\n",
       "      <td>1062426</td>\n",
       "    </tr>\n",
       "    <tr>\n",
       "      <th>911</th>\n",
       "      <td>108</td>\n",
       "      <td>1161925</td>\n",
       "    </tr>\n",
       "    <tr>\n",
       "      <th>1141</th>\n",
       "      <td>134</td>\n",
       "      <td>541222</td>\n",
       "    </tr>\n",
       "    <tr>\n",
       "      <th>...</th>\n",
       "      <td>...</td>\n",
       "      <td>...</td>\n",
       "    </tr>\n",
       "    <tr>\n",
       "      <th>28511768</th>\n",
       "      <td>1791481</td>\n",
       "      <td>1060990</td>\n",
       "    </tr>\n",
       "    <tr>\n",
       "      <th>28511769</th>\n",
       "      <td>1791481</td>\n",
       "      <td>1061382</td>\n",
       "    </tr>\n",
       "    <tr>\n",
       "      <th>28511771</th>\n",
       "      <td>1791481</td>\n",
       "      <td>1110380</td>\n",
       "    </tr>\n",
       "    <tr>\n",
       "      <th>28511772</th>\n",
       "      <td>1791482</td>\n",
       "      <td>80740</td>\n",
       "    </tr>\n",
       "    <tr>\n",
       "      <th>28511785</th>\n",
       "      <td>1791484</td>\n",
       "      <td>235100</td>\n",
       "    </tr>\n",
       "  </tbody>\n",
       "</table>\n",
       "<p>483094 rows × 2 columns</p>\n",
       "</div>"
      ],
      "text/plain": [
       "          Source Link  Target Link\n",
       "Edge ID                           \n",
       "796                95      1185516\n",
       "909               108      1059989\n",
       "910               108      1062426\n",
       "911               108      1161925\n",
       "1141              134       541222\n",
       "...               ...          ...\n",
       "28511768      1791481      1060990\n",
       "28511769      1791481      1061382\n",
       "28511771      1791481      1110380\n",
       "28511772      1791482        80740\n",
       "28511785      1791484       235100\n",
       "\n",
       "[483094 rows x 2 columns]"
      ]
     },
     "execution_count": 102,
     "metadata": {},
     "output_type": "execute_result"
    }
   ],
   "source": [
    "wiki_graph"
   ]
  },
  {
   "cell_type": "code",
   "execution_count": 103,
   "metadata": {},
   "outputs": [
    {
     "name": "stdout",
     "output_type": "stream",
     "text": [
      "                                    name_of_page\n",
      "id                                              \n",
      "0                              Chiasmal syndrome\n",
      "1                                    Kleroterion\n",
      "2                                       Pinakion\n",
      "3        LyndonHochschildSerre spectral sequence\n",
      "4                         Zariski's main theorem\n",
      "...                                          ...\n",
      "1791484           Noadiah Russell (Yale founder)\n",
      "1791485                       Cornus officinalis\n",
      "1791486                           Peter Grummitt\n",
      "1791487                           Baron Estcourt\n",
      "1791488                         Catherine Dubosc\n",
      "\n",
      "[1791489 rows x 1 columns]\n"
     ]
    }
   ],
   "source": [
    "#PageNames DataFrame\n",
    "\n",
    "page_names = pd.read_csv('wiki-topcats-page-names.txt',names=['id'])\n",
    "page_names[['id','name_of_page']] = page_names[\"id\"].str.split(\" \", 1, expand=True)\n",
    "page_names[\"name_of_page\"] = page_names[\"name_of_page\"].str.strip(\"-\")\n",
    "page_names = page_names.set_index('id')\n",
    "print(page_names)"
   ]
  },
  {
   "cell_type": "code",
   "execution_count": 104,
   "metadata": {},
   "outputs": [
    {
     "data": {
      "text/plain": [
       "Index(['name_of_page'], dtype='object')"
      ]
     },
     "execution_count": 104,
     "metadata": {},
     "output_type": "execute_result"
    }
   ],
   "source": [
    "page_names.columns"
   ]
  },
  {
   "cell_type": "code",
   "execution_count": 117,
   "metadata": {},
   "outputs": [
    {
     "name": "stdout",
     "output_type": "stream",
     "text": [
      "                                                  cats  \\\n",
      "0                                         Buprestoidea   \n",
      "1                                People from Worcester   \n",
      "2      Skin conditions resulting from physical factors   \n",
      "3                                     Visual kei bands   \n",
      "4                           Japanese rock music groups   \n",
      "...                                                ...   \n",
      "17359                   British science fiction novels   \n",
      "17360                           Television soundtracks   \n",
      "17361                         Diptera of North America   \n",
      "17362                                  Diptera of Asia   \n",
      "17363                                       Tachinidae   \n",
      "\n",
      "                                                   pages  \n",
      "0      301 302 303 304 305 306 307 308 309 310 311 31...  \n",
      "1      1056 1057 1058 1059 1060 60971 76515 76871 780...  \n",
      "2      971 973 1166 1167 1168 1169 1170 1171 1172 117...  \n",
      "3      1297 1300 1311 1312 1313 1314 1315 1316 1319 1...  \n",
      "4      1297 1300 1313 1314 1315 1316 1319 1320 1322 1...  \n",
      "...                                                  ...  \n",
      "17359  16110 24545 39814 67923 108629 108630 108631 1...  \n",
      "17360  1117 110192 110376 110377 110380 110395 137001...  \n",
      "17361  279 280 283 31110 31129 31133 31138 31139 3114...  \n",
      "17362  279 31129 31133 31134 31135 31136 31137 31138 ...  \n",
      "17363  429765 429776 860398 1427707 1427710 1427711 1...  \n",
      "\n",
      "[17364 rows x 2 columns]\n"
     ]
    }
   ],
   "source": [
    "#PagesPerCategory DataFrame\n",
    "\n",
    "pages_per_categories = pd.read_csv('wiki-topcats-categories.txt',names=['cats'])\n",
    "#pages_per_categories['cats'] = pages_per_categories[\"cats\"].str.split(\" \", expand=True)\n",
    "pages_per_categories = pd.DataFrame(pages_per_categories.cats.str.split(' ',1).tolist(), columns = ['cats','pages'])\n",
    "pages_per_categories[\"cats\"] = pages_per_categories[\"cats\"].str.strip(\"-\")\n",
    "pages_per_categories['cats'] = pages_per_categories['cats'].str.replace(\"Category:\", \"\")\n",
    "pages_per_categories['cats'] = pages_per_categories['cats'].str.replace(\";\", \"\")\n",
    "pages_per_categories['cats'] = pages_per_categories['cats'].str.replace(\"_\", \" \")\n",
    "\n",
    "print(pages_per_categories)"
   ]
  },
  {
   "cell_type": "code",
   "execution_count": null,
   "metadata": {},
   "outputs": [],
   "source": []
  }
 ],
 "metadata": {
  "kernelspec": {
   "display_name": "Python 3",
   "language": "python",
   "name": "python3"
  },
  "language_info": {
   "codemirror_mode": {
    "name": "ipython",
    "version": 3
   },
   "file_extension": ".py",
   "mimetype": "text/x-python",
   "name": "python",
   "nbconvert_exporter": "python",
   "pygments_lexer": "ipython3",
   "version": "3.8.5"
  }
 },
 "nbformat": 4,
 "nbformat_minor": 4
}
