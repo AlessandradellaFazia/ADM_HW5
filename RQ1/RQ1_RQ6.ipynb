{
 "cells": [
  {
   "cell_type": "markdown",
   "metadata": {},
   "source": [
    "# Homework 5 - Explore Wikipedia's hyperlinks network"
   ]
  },
  {
   "cell_type": "code",
   "execution_count": 1,
   "metadata": {},
   "outputs": [],
   "source": [
    "import pandas as pd\n",
    "import networkx as nx\n",
    "import matplotlib.pyplot as plt\n",
    "import numpy as np\n",
    "from scipy import linalg\n",
    "import seaborn as sns\n",
    "import collections"
   ]
  },
  {
   "cell_type": "markdown",
   "metadata": {},
   "source": [
    "Input file:"
   ]
  },
  {
   "cell_type": "markdown",
   "metadata": {},
   "source": [
    "# [RQ1] Build the graph G=(V, E) and provide basic information.\n",
    "where V is the set of articles and E the hyperlinks among them."
   ]
  },
  {
   "cell_type": "markdown",
   "metadata": {},
   "source": [
    "- The graph directed or undirected\n",
    "- How many articles are there\n",
    "- How many hyperlinks between pages exist\n",
    "- The graph density, is the graph dense or sparse? \n",
    "- Visualize the nodes' degree distribution"
   ]
  },
  {
   "cell_type": "code",
   "execution_count": 2,
   "metadata": {},
   "outputs": [],
   "source": [
    "file_page = \"wiki-topcats-page-names.txt\"\n",
    "file_category = \"wiki-topcats-categories.txt\" \n",
    "file_graph = \"wikigraph_reduced.csv\"\n",
    "path = \"C:\\\\Users\\\\Alessandra\\\\Downloads\\\\\""
   ]
  },
  {
   "cell_type": "markdown",
   "metadata": {},
   "source": [
    "Build the dataframe and check for invalid values:"
   ]
  },
  {
   "cell_type": "code",
   "execution_count": 3,
   "metadata": {},
   "outputs": [],
   "source": [
    "graph_ds=pd.read_csv(path + file_graph, sep = '\\t', names = ['id','source', 'dest'], header = 0, index_col = 'id')"
   ]
  },
  {
   "cell_type": "code",
   "execution_count": 4,
   "metadata": {},
   "outputs": [
    {
     "data": {
      "text/plain": [
       "source    0\n",
       "dest      0\n",
       "dtype: int64"
      ]
     },
     "execution_count": 4,
     "metadata": {},
     "output_type": "execute_result"
    }
   ],
   "source": [
    "graph_ds.isnull().sum()"
   ]
  },
  {
   "cell_type": "code",
   "execution_count": 5,
   "metadata": {},
   "outputs": [
    {
     "data": {
      "text/html": [
       "<div>\n",
       "<style scoped>\n",
       "    .dataframe tbody tr th:only-of-type {\n",
       "        vertical-align: middle;\n",
       "    }\n",
       "\n",
       "    .dataframe tbody tr th {\n",
       "        vertical-align: top;\n",
       "    }\n",
       "\n",
       "    .dataframe thead th {\n",
       "        text-align: right;\n",
       "    }\n",
       "</style>\n",
       "<table border=\"1\" class=\"dataframe\">\n",
       "  <thead>\n",
       "    <tr style=\"text-align: right;\">\n",
       "      <th></th>\n",
       "      <th>source</th>\n",
       "      <th>dest</th>\n",
       "    </tr>\n",
       "    <tr>\n",
       "      <th>id</th>\n",
       "      <th></th>\n",
       "      <th></th>\n",
       "    </tr>\n",
       "  </thead>\n",
       "  <tbody>\n",
       "    <tr>\n",
       "      <th>796</th>\n",
       "      <td>95</td>\n",
       "      <td>1185516</td>\n",
       "    </tr>\n",
       "    <tr>\n",
       "      <th>909</th>\n",
       "      <td>108</td>\n",
       "      <td>1059989</td>\n",
       "    </tr>\n",
       "    <tr>\n",
       "      <th>910</th>\n",
       "      <td>108</td>\n",
       "      <td>1062426</td>\n",
       "    </tr>\n",
       "    <tr>\n",
       "      <th>911</th>\n",
       "      <td>108</td>\n",
       "      <td>1161925</td>\n",
       "    </tr>\n",
       "    <tr>\n",
       "      <th>1141</th>\n",
       "      <td>134</td>\n",
       "      <td>541222</td>\n",
       "    </tr>\n",
       "  </tbody>\n",
       "</table>\n",
       "</div>"
      ],
      "text/plain": [
       "      source     dest\n",
       "id                   \n",
       "796       95  1185516\n",
       "909      108  1059989\n",
       "910      108  1062426\n",
       "911      108  1161925\n",
       "1141     134   541222"
      ]
     },
     "execution_count": 5,
     "metadata": {},
     "output_type": "execute_result"
    }
   ],
   "source": [
    "graph_ds.head()"
   ]
  },
  {
   "cell_type": "markdown",
   "metadata": {},
   "source": [
    "## Is the graph directed?"
   ]
  },
  {
   "cell_type": "markdown",
   "metadata": {},
   "source": [
    "For answer to this question we check if all the pairs source - destination appears also as destination - source. For istance if the first row of the dataset is:\n",
    "\n",
    "| Source      | Destination |\n",
    "| ----------- | ----------- |\n",
    "| A           | B           |\n",
    "\n",
    "we test if there are also:\n",
    "\n",
    "| Source      | Destination |\n",
    "| ----------- | ----------- |\n",
    "| B           | A           |\n",
    "\n",
    "                                                                           (Fitic table not related to our datset)\n",
    "\n",
    "in the dataset. If this occurs for each rows we say that graph in **unidirected**, otherwise, we say the graph is **directed**."
   ]
  },
  {
   "cell_type": "code",
   "execution_count": 29,
   "metadata": {},
   "outputs": [],
   "source": [
    "#input dict: dictonary were for each source node maps the list of destinations\n",
    "#output dict: dictonary were for each destination node maps the list of sources pointing to it\n",
    "input_dic = graph_ds.groupby(['source'])['dest'].apply(list).to_dict()\n",
    "output_dic = graph_ds.groupby(['dest'])['source'].apply(list).to_dict()"
   ]
  },
  {
   "cell_type": "code",
   "execution_count": 38,
   "metadata": {},
   "outputs": [],
   "source": [
    "is_undirected = []\n",
    "for node in input_dic.keys():\n",
    "    outputs = input_dic[node]\n",
    "    for out in outputs:\n",
    "        if (output_dic[out] == node):\n",
    "            is_undirected.append(True)\n",
    "        else:\n",
    "            is_undirected.append(False)"
   ]
  },
  {
   "cell_type": "code",
   "execution_count": 40,
   "metadata": {},
   "outputs": [
    {
     "name": "stdout",
     "output_type": "stream",
     "text": [
      "The graph is directed.\n"
     ]
    }
   ],
   "source": [
    "if all(is_undirected):\n",
    "    print(\"The graph is undirected.\")\n",
    "else:\n",
    "    print(\"The graph is directed.\")"
   ]
  },
  {
   "cell_type": "markdown",
   "metadata": {},
   "source": [
    "## How many articles are we considering?"
   ]
  },
  {
   "cell_type": "markdown",
   "metadata": {},
   "source": [
    "The number of articles is the number of nodes:"
   ]
  },
  {
   "cell_type": "code",
   "execution_count": 250,
   "metadata": {},
   "outputs": [
    {
     "data": {
      "text/plain": [
       "98343"
      ]
     },
     "execution_count": 250,
     "metadata": {},
     "output_type": "execute_result"
    }
   ],
   "source": [
    "#numer of nodes\n",
    "source_set = set(graph_ds['source'])\n",
    "dest_set = set(graph_ds['dest'])\n",
    "len(source_set.union(dest_set))"
   ]
  },
  {
   "cell_type": "markdown",
   "metadata": {},
   "source": [
    "## How many hyperlinks between pages exist?"
   ]
  },
  {
   "cell_type": "markdown",
   "metadata": {},
   "source": [
    "The number of hyperlinks is the number of edges, that is the number of rows in the dataset, verifing that there are not duplicates pairs _source_ -> _destination_.\n",
    "So, we first check if the there are duplicates rows, if not the number of hyperlinks is the number of rows."
   ]
  },
  {
   "cell_type": "code",
   "execution_count": 279,
   "metadata": {},
   "outputs": [
    {
     "data": {
      "text/plain": [
       "False"
      ]
     },
     "execution_count": 279,
     "metadata": {},
     "output_type": "execute_result"
    }
   ],
   "source": [
    "# DataFrame.any Return True if one (or more) elements are True.\n",
    "any(graph_ds.duplicated(subset = ['source', 'dest']))"
   ]
  },
  {
   "cell_type": "markdown",
   "metadata": {},
   "source": [
    "There are not duplicated."
   ]
  },
  {
   "cell_type": "markdown",
   "metadata": {},
   "source": [
    "Let's see the number of edges:"
   ]
  },
  {
   "cell_type": "code",
   "execution_count": 292,
   "metadata": {},
   "outputs": [
    {
     "data": {
      "text/plain": [
       "483094"
      ]
     },
     "execution_count": 292,
     "metadata": {},
     "output_type": "execute_result"
    }
   ],
   "source": [
    "#number of edges:\n",
    "len(graph_ds)"
   ]
  },
  {
   "cell_type": "markdown",
   "metadata": {},
   "source": [
    "Now we build the graph using networkx library and checks the results:"
   ]
  },
  {
   "cell_type": "code",
   "execution_count": 4,
   "metadata": {},
   "outputs": [
    {
     "name": "stdout",
     "output_type": "stream",
     "text": [
      "Wall time: 1.04 s\n"
     ]
    }
   ],
   "source": [
    "%%time\n",
    "G = nx.convert_matrix.from_pandas_edgelist(graph_ds, 'source','dest', create_using=nx.DiGraph())"
   ]
  },
  {
   "cell_type": "code",
   "execution_count": 290,
   "metadata": {},
   "outputs": [
    {
     "name": "stdout",
     "output_type": "stream",
     "text": [
      "\n",
      "Number of nodes:  98343\n",
      "Number of edges: 483094\n",
      "\n"
     ]
    }
   ],
   "source": [
    "print()\n",
    "print(\"Number of nodes:  %d\\nNumber of edges: %d\\n\" % (G.number_of_nodes() , G.number_of_edges()))"
   ]
  },
  {
   "cell_type": "markdown",
   "metadata": {},
   "source": [
    "## Compute the average number of links in an arbitrary page. \n",
    "\n",
    "- Do you believe that the graph is dense or sparse?"
   ]
  },
  {
   "cell_type": "code",
   "execution_count": 325,
   "metadata": {},
   "outputs": [
    {
     "name": "stdout",
     "output_type": "stream",
     "text": [
      "1056902\n"
     ]
    },
    {
     "data": {
      "text/html": [
       "<div>\n",
       "<style scoped>\n",
       "    .dataframe tbody tr th:only-of-type {\n",
       "        vertical-align: middle;\n",
       "    }\n",
       "\n",
       "    .dataframe tbody tr th {\n",
       "        vertical-align: top;\n",
       "    }\n",
       "\n",
       "    .dataframe thead th {\n",
       "        text-align: right;\n",
       "    }\n",
       "</style>\n",
       "<table border=\"1\" class=\"dataframe\">\n",
       "  <thead>\n",
       "    <tr style=\"text-align: right;\">\n",
       "      <th></th>\n",
       "      <th>source</th>\n",
       "      <th>dest</th>\n",
       "    </tr>\n",
       "    <tr>\n",
       "      <th>id</th>\n",
       "      <th></th>\n",
       "      <th></th>\n",
       "    </tr>\n",
       "  </thead>\n",
       "  <tbody>\n",
       "    <tr>\n",
       "      <th>15829827</th>\n",
       "      <td>1056902</td>\n",
       "      <td>1060279</td>\n",
       "    </tr>\n",
       "  </tbody>\n",
       "</table>\n",
       "</div>"
      ],
      "text/plain": [
       "           source     dest\n",
       "id                        \n",
       "15829827  1056902  1060279"
      ]
     },
     "execution_count": 325,
     "metadata": {},
     "output_type": "execute_result"
    }
   ],
   "source": [
    "random_row = graph_ds.sample()\n",
    "random_page_number = random_row['source'].values[0]\n",
    "print(random_page_number)\n",
    "random_row"
   ]
  },
  {
   "cell_type": "code",
   "execution_count": 330,
   "metadata": {},
   "outputs": [
    {
     "name": "stdout",
     "output_type": "stream",
     "text": [
      "           source     dest\n",
      "id                        \n",
      "15829825  1056902  1058405\n",
      "15829826  1056902  1059231\n",
      "15829827  1056902  1060279\n",
      "15829828  1056902  1060412\n",
      "15829829  1056902  1061375\n",
      "           source     dest\n",
      "id                        \n",
      "15884685  1058405  1056902\n",
      "15929819  1059231  1056902\n",
      "16011740  1060412  1056902\n",
      "16120366  1061375  1056902\n",
      "18653570  1166252  1056902\n"
     ]
    },
    {
     "data": {
      "text/plain": [
       "5.0"
      ]
     },
     "execution_count": 330,
     "metadata": {},
     "output_type": "execute_result"
    }
   ],
   "source": [
    "#(number of out links + number of in links) divided by 2\n",
    "print(graph_ds[graph_ds.source == random_page_number])\n",
    "print(graph_ds[graph_ds.dest == random_page_number])\n",
    "(len(graph_ds[graph_ds.source == random_page_number]) + len(graph_ds[graph_ds.dest == random_page_number])) / 2"
   ]
  },
  {
   "cell_type": "markdown",
   "metadata": {},
   "source": [
    "## What is the graph density? "
   ]
  },
  {
   "cell_type": "markdown",
   "metadata": {},
   "source": [
    "Given a graph G = (V,E) where E is the number of edges and V is the number of vertices, the graph density of a graphs is defined to be the ratio of the number of edges $|E|$ with respect to the maximum possible edges. For a directed graph the maximum possible edges is 2 times the number of possible pairs, in other words $2 \\binom{V}{2} = |V| (|V|-1) $. The density is then $$ \\frac{|E|} {|V| (|V|-1)} $$"
   ]
  },
  {
   "cell_type": "markdown",
   "metadata": {},
   "source": [
    "The maximal density is 1 (for complete graphs) and the minimal density is 0."
   ]
  },
  {
   "cell_type": "code",
   "execution_count": 50,
   "metadata": {},
   "outputs": [
    {
     "name": "stdout",
     "output_type": "stream",
     "text": [
      "(density, number of nodes, number of edges)\n"
     ]
    },
    {
     "data": {
      "text/plain": [
       "(5e-05, 98343, 483094)"
      ]
     },
     "execution_count": 50,
     "metadata": {},
     "output_type": "execute_result"
    }
   ],
   "source": [
    "nnodes = G.number_of_nodes() \n",
    "nedges = G.number_of_edges()\n",
    "print('(density, number of nodes, number of edges)')\n",
    "(round(nedges/(nnodes*(nnodes-1)),7), nnodes, nedges)"
   ]
  },
  {
   "cell_type": "markdown",
   "metadata": {},
   "source": [
    "Since the density is equal to 0,00005 we think the graph is **sparse**."
   ]
  },
  {
   "cell_type": "markdown",
   "metadata": {},
   "source": [
    "## The nodes' degree distribution"
   ]
  },
  {
   "cell_type": "markdown",
   "metadata": {},
   "source": [
    "The degree of a node is the number of connections it has to other nodes. Since the network is directed, the nodes have two different degrees, the in-degree, which is the number of incoming edges, and the out-degree, which is the number of outgoing edges. The degree distribution is the probability distribution of these degrees over the whole network.\n",
    "In particular, the degree distribution $P(k)$ is the fraction of nodes in the network with degree k,\n",
    "given a network with n nodes and $n_{k}$ of them have degree k, we have $P(k)={\\frac {n_{k}}{n}}$."
   ]
  },
  {
   "cell_type": "code",
   "execution_count": 44,
   "metadata": {},
   "outputs": [
    {
     "name": "stdout",
     "output_type": "stream",
     "text": [
      "Name: \n",
      "Type: DiGraph\n",
      "Number of nodes: 98343\n",
      "Number of edges: 483094\n",
      "Average in degree:   4.9123\n",
      "Average out degree:   4.9123\n"
     ]
    }
   ],
   "source": [
    "print(nx.info(G))"
   ]
  },
  {
   "cell_type": "code",
   "execution_count": 40,
   "metadata": {},
   "outputs": [],
   "source": [
    "in_degree  =  [deg for (node, deg) in G.in_degree()]\n",
    "out_degree =  [deg for (node, deg) in G.out_degree()]\n",
    "tot_degree =  [deg for (node, deg) in G.degree()]"
   ]
  },
  {
   "cell_type": "code",
   "execution_count": 41,
   "metadata": {},
   "outputs": [
    {
     "data": {
      "image/png": "[encoded data removed]",
      "text/plain": [
       "<Figure size 432x288 with 1 Axes>"
      ]
     },
     "metadata": {
      "needs_background": "light"
     },
     "output_type": "display_data"
    }
   ],
   "source": [
    "plt.hist(out_degree, 40, density=True, facecolor='dodgerblue', alpha=0.75)\n",
    "plt.xlabel('degree')\n",
    "plt.ylabel('Probability')\n",
    "plt.title('Histogram of outdegree of the network')\n",
    "plt.yscale('log')\n",
    "plt.grid(True)\n",
    "plt.show()"
   ]
  },
  {
   "cell_type": "code",
   "execution_count": 39,
   "metadata": {},
   "outputs": [
    {
     "data": {
      "image/png": "[encoded data removed]",
      "text/plain": [
       "<Figure size 432x288 with 1 Axes>"
      ]
     },
     "metadata": {
      "needs_background": "light"
     },
     "output_type": "display_data"
    }
   ],
   "source": [
    "plt.hist(in_degree, 40, density=True, facecolor='r', alpha=0.75)\n",
    "plt.xlabel('degree')\n",
    "plt.ylabel('Probability')\n",
    "plt.title('Histogram of indree of the network')\n",
    "plt.yscale('log')\n",
    "plt.grid(True)\n",
    "plt.show()"
   ]
  },
  {
   "cell_type": "code",
   "execution_count": 42,
   "metadata": {},
   "outputs": [
    {
     "data": {
      "image/png": "[encoded data removed]",
      "text/plain": [
       "<Figure size 432x288 with 1 Axes>"
      ]
     },
     "metadata": {
      "needs_background": "light"
     },
     "output_type": "display_data"
    }
   ],
   "source": [
    "plt.hist(tot_degree, 40, density=True, facecolor='deeppink', alpha=0.75)\n",
    "plt.xlabel('degree')\n",
    "plt.ylabel('Probability')\n",
    "plt.title('Histogram of degree (in and out) of the network')\n",
    "plt.yscale('log')\n",
    "plt.grid(True)\n",
    "plt.show()"
   ]
  },
  {
   "cell_type": "markdown",
   "metadata": {},
   "source": [
    "In all the three graphs, we see how the majority of nodes have low degree, but there are a small number of high-connected nodes, the latter are called called hubs."
   ]
  },
  {
   "cell_type": "markdown",
   "metadata": {},
   "source": [
    "### Read the categories"
   ]
  },
  {
   "cell_type": "markdown",
   "metadata": {},
   "source": [
    "In this section we read, process and organize the file relating to the categories. Since an article can belong to several categories, for each article we choose a single category at random among its own."
   ]
  },
  {
   "cell_type": "code",
   "execution_count": null,
   "metadata": {},
   "outputs": [],
   "source": [
    "f = open(path + file_category, encoding='utf-8')"
   ]
  },
  {
   "cell_type": "code",
   "execution_count": 1,
   "metadata": {},
   "outputs": [],
   "source": [
    "# Append multiple value to a key in dictionary\n",
    "def add_values_in_dict(sample_dict, key, list_of_values):\n",
    "    \"\"\"Append multiple values to a key in the given dictionary\"\"\"\n",
    "    if key not in sample_dict:\n",
    "        sample_dict[key] = list()\n",
    "    sample_dict[key].extend(list_of_values)\n",
    "    return sample_dict"
   ]
  },
  {
   "cell_type": "code",
   "execution_count": null,
   "metadata": {},
   "outputs": [],
   "source": [
    "pages_per_categories = pd.read_csv(path + file_category,names=['cats'])\n",
    "pages_per_categories = pd.DataFrame(pages_per_categories.cats.str.split(' ', 1).tolist(), columns = ['cats','pages'])"
   ]
  },
  {
   "cell_type": "code",
   "execution_count": 15,
   "metadata": {},
   "outputs": [],
   "source": [
    "pages_per_categories[\"cats\"] = pages_per_categories[\"cats\"].str.strip(\"-\")\n",
    "pages_per_categories['cats'] = pages_per_categories['cats'].str.replace(\"Category:\", \"\")\n",
    "pages_per_categories['cats'] = pages_per_categories['cats'].str.replace(\";\", \"\")\n",
    "pages_per_categories['cats'] = pages_per_categories['cats'].str.replace(\"_\", \" \")"
   ]
  },
  {
   "cell_type": "code",
   "execution_count": 27,
   "metadata": {},
   "outputs": [
    {
     "data": {
      "text/plain": [
       "cats       0\n",
       "pages    538\n",
       "dtype: int64"
      ]
     },
     "execution_count": 27,
     "metadata": {},
     "output_type": "execute_result"
    }
   ],
   "source": [
    "#check if there null vales in the dataset\n",
    "pages_per_categories.isnull().sum()"
   ]
  },
  {
   "cell_type": "code",
   "execution_count": 28,
   "metadata": {},
   "outputs": [],
   "source": [
    "#Remove the null values.\n",
    "pages_per_categories.dropna(inplace = True)"
   ]
  },
  {
   "cell_type": "code",
   "execution_count": 29,
   "metadata": {},
   "outputs": [
    {
     "data": {
      "text/plain": [
       "cats     0\n",
       "pages    0\n",
       "dtype: int64"
      ]
     },
     "execution_count": 29,
     "metadata": {},
     "output_type": "execute_result"
    }
   ],
   "source": [
    "pages_per_categories.isnull().sum()"
   ]
  },
  {
   "cell_type": "code",
   "execution_count": null,
   "metadata": {},
   "outputs": [],
   "source": [
    "pages_per_categories_dict = dict(pages_per_categories.values.tolist())"
   ]
  },
  {
   "cell_type": "code",
   "execution_count": 34,
   "metadata": {},
   "outputs": [],
   "source": [
    "separated_pages_per_categories_dict = {}\n",
    "for key in pages_per_categories_dict:    \n",
    "    if pages_per_categories_dict[key] != None:    \n",
    "        pages = pages_per_categories_dict[key].split()     \n",
    "        separated_pages_per_categories_dict = add_values_in_dict(separated_pages_per_categories_dict, key, pages)"
   ]
  },
  {
   "cell_type": "code",
   "execution_count": 37,
   "metadata": {},
   "outputs": [],
   "source": [
    "from tqdm import tqdm"
   ]
  },
  {
   "cell_type": "code",
   "execution_count": 38,
   "metadata": {},
   "outputs": [
    {
     "name": "stderr",
     "output_type": "stream",
     "text": [
      "100%|██████████████████████████████████████████████████████████████████████████| 16826/16826 [00:04<00:00, 3443.10it/s]\n"
     ]
    }
   ],
   "source": [
    "inverted_dict = {}\n",
    "for k in tqdm(separated_pages_per_categories_dict.keys()):\n",
    "    for node in separated_pages_per_categories_dict[k]:\n",
    "        if int(node) not in  inverted_dict.keys():\n",
    "            inverted_dict[int(node)] = []\n",
    "            inverted_dict[int(node)].append(k)\n",
    "        else:\n",
    "            inverted_dict[int(node)].append(k)"
   ]
  },
  {
   "cell_type": "code",
   "execution_count": 39,
   "metadata": {},
   "outputs": [
    {
     "name": "stdout",
     "output_type": "stream",
     "text": [
      "962375\n"
     ]
    }
   ],
   "source": [
    "count = 0\n",
    "for k in inverted_dict.keys():\n",
    "    if len(inverted_dict[k]) > 1:\n",
    "        count += 1\n",
    "print(count)     "
   ]
  },
  {
   "cell_type": "code",
   "execution_count": 41,
   "metadata": {},
   "outputs": [],
   "source": [
    "import random"
   ]
  },
  {
   "cell_type": "code",
   "execution_count": 42,
   "metadata": {},
   "outputs": [],
   "source": [
    "random.seed(54557)\n",
    "for k in inverted_dict.keys():\n",
    "    chosen = random.choice(inverted_dict[k])\n",
    "    inverted_dict[k] = [chosen]"
   ]
  },
  {
   "cell_type": "code",
   "execution_count": 44,
   "metadata": {},
   "outputs": [
    {
     "name": "stderr",
     "output_type": "stream",
     "text": [
      "100%|███████████████████████████████████████████████████████████████████| 1778370/1778370 [00:01<00:00, 1152650.59it/s]\n"
     ]
    }
   ],
   "source": [
    "# build the dictonary such that: key=category ----> value=pages\n",
    "cat_pages_dict = {}\n",
    "for k in tqdm(inverted_dict.keys()):\n",
    "    for node in inverted_dict[k]:\n",
    "        if node not in  cat_pages_dict.keys():\n",
    "            cat_pages_dict[node] = []\n",
    "            cat_pages_dict[node].append(k)\n",
    "        else:\n",
    "            cat_pages_dict[node].append(k)"
   ]
  },
  {
   "cell_type": "code",
   "execution_count": 1,
   "metadata": {},
   "outputs": [],
   "source": [
    "import pickle"
   ]
  },
  {
   "cell_type": "code",
   "execution_count": 63,
   "metadata": {},
   "outputs": [],
   "source": [
    "#save inverted index to reuse them later\n",
    "with open(\"dict_page_category.pkl\", \"wb\") as out:\n",
    "    pickle.dump(inverted_dict, out)"
   ]
  },
  {
   "cell_type": "code",
   "execution_count": 50,
   "metadata": {},
   "outputs": [],
   "source": [
    "#save the dictionary of categories to reuse them later\n",
    "a_file = open(\"cat_pages_dict.pkl\", \"wb\")\n",
    "pickle.dump(cat_pages_dict, a_file)\n",
    "a_file.close()"
   ]
  },
  {
   "cell_type": "code",
   "execution_count": 53,
   "metadata": {},
   "outputs": [],
   "source": [
    "#To load saved data\n",
    "with open(\"cat_pages_dict.pkl\", \"rb\") as file:\n",
    "    cat_pages_dict = pickle.load(file)"
   ]
  },
  {
   "cell_type": "markdown",
   "metadata": {},
   "source": [
    "# [RQ6] PageRank \n",
    "#### Write a function that sorts the categories in the graph according to their PageRank (PR)"
   ]
  },
  {
   "cell_type": "markdown",
   "metadata": {},
   "source": [
    "### Theory:"
   ]
  },
  {
   "cell_type": "markdown",
   "metadata": {},
   "source": [
    "Given a web graph, the **PageRank** of a page (a node of the web graph) is a numerical score, between 0 and 1, based on the links structure of the network. \n",
    "\n",
    "In order to assign the score to each page, we consider the **Random Surfer Model**: suppose the surfer who starts at a web page and executes a random walk on the Web, in every step he choose two modes: \n",
    "with probability  $(1 - \\alpha)$  go to a page whose link is present on the current page, or with probability  $\\alpha$  jump to any other page (typing a andress into the URL bar of his browser). The latter modality is called **teleporting**.\n",
    "\n",
    "Given a network on N pages, a given step, the surfer perform a Bernoulli test to decide the modality; if the first modality has been chosen, the surfer chooses a link among those present on the current page uniformly, that is, if the page contains M links, each of them has a probability of $\\frac{1}{M}$ to be chosen. If the second mode is selected, the surfer chooses a random page uniformly, so since there are N pages, all the pages have a probability of $\\frac{1}{N}$ to be choosen.\n",
    "\n",
    "We report, for each page $i$, the probability of ending up on another page $j$ in $N x N$ matrix $P$ called **transition matrix**, where the item $P[i][j]$ is the probability of end up in the page $j$ if I am in page $i$, that is $$P[i][j] = (1 - \\alpha) \\times \\frac{1}{M} + \\alpha \\times \\frac{1}{N}$$ where M is the number of outgoing links of the page i. If a page i has no outgoing link we set at $\\frac{1}{N}$ the probability of go to any other node.\n",
    "\n",
    "It is clear that we can build the P matrix using the **Adjacency Matrix $A$**, where the element $A[i][j]$ is $1$ if there is a link between $i$ and $j$, $0$ otherwise. In fact $$ P = (1 - \\alpha) \\times A' + \\alpha \\times \\frac{1}{N} \\times J $$\n",
    "where $J$ is the matrix of all ones, $A'$ is the matrix $A$ where each row is divided by the sum of the ones in the row (that is the number of outgoing links) and if a row in $A$ has no $1$ (a page i has no outgoing link), we set all the elements of the row to $\\frac{1}{N}$.  "
   ]
  },
  {
   "cell_type": "markdown",
   "metadata": {},
   "source": [
    "Now we consider the $1 \\times N$ vector $q^t$, that contains the probability of being in each nodes at the time t, in other words the the surfer’s distribution at time t. \n",
    "Cosindering $q^0$ as the starting state, by definition, \n",
    "\n",
    "at time t = 1 the distribution is $q^1 = q^0 \\times P$. \n",
    "\n",
    "At time t = 2 is $q^2 = q^1 \\times P = q^0 \\times P^2$,\n",
    "\n",
    "a t = 3 is $q^3 = q^0 \\times P^3$, and so on.\n",
    "\n",
    "We are interesting at the distribution for large t. It is shown that the distribution for large t converges to a certain value. We call the $1 \\times N$ vector $\\pi$ the stationary distribuition. $\\pi$ tells us, for each page, the percentual of times the surfer stays in each state, we define the **PageRank** of the page $i$ the i-th entries of $\\pi$. If $\\pi$ is the stationary distribution of the surfer, in the next step the distribution remains the same $\\pi$, so the following condition holds $\\pi \\times P = \\pi$. So given $\\pi$ the stationary distribution, we have that $\\pi \\times P = 1 \\pi$, so 1 is an eigenvalue of P.\n",
    "\n",
    "In other words, the **PageRank** of the page $i$ is given by $\\pi[i]$, where $\\pi$ is the eigvector associates to the eigvalue 1 of the matrix P."
   ]
  },
  {
   "cell_type": "markdown",
   "metadata": {},
   "source": [
    "### Practical steps:"
   ]
  },
  {
   "cell_type": "markdown",
   "metadata": {},
   "source": [
    "In our analysis the nodes are the categories of the pages.\n",
    "\n",
    "We use two dataset:\n",
    "\n",
    "- Dataset of the web graph. In which every row indicates an edge and the columns are the source and the destination, respectively.\n",
    "\n",
    "- Dataset of the categories, reports the category to which each page belongs.\n",
    "\n",
    "1) We associate the respective category (dataset of categories) to each node (dataset of web). To do this, we do an inner join between the 2 datasets twice, to associate category to the source page and to associate the category to the destination nodes.\n",
    "\n",
    "2) Build the Adjacency Matrix between categories source and destination.\n",
    "\n",
    "3) Build the Transition Matrix from the Adjacency Matrix.\n",
    "\n",
    "4) Compute the PageRank as eigvector associates to the eigvalue 1 of Transition Matrix.\n"
   ]
  },
  {
   "cell_type": "code",
   "execution_count": 129,
   "metadata": {},
   "outputs": [],
   "source": [
    "#input\n",
    "with open(\"dict_page_category.pkl\", \"rb\") as file:\n",
    "    inverted_dict = pickle.load(file)"
   ]
  },
  {
   "cell_type": "code",
   "execution_count": 2,
   "metadata": {},
   "outputs": [],
   "source": [
    "#build a dataframe page category from the dictonary \n",
    "pages_list =list(inverted_dict.keys()) #retrieve list of pages \n",
    "category_list = [item for list_of_list in list(inverted_dict.values()) for item in list_of_list] #retrieve list of categories\n",
    "category_df = pd.DataFrame({'page' : pages_list, 'category':category_list})"
   ]
  },
  {
   "cell_type": "code",
   "execution_count": 13,
   "metadata": {},
   "outputs": [
    {
     "data": {
      "text/html": [
       "<div>\n",
       "<style scoped>\n",
       "    .dataframe tbody tr th:only-of-type {\n",
       "        vertical-align: middle;\n",
       "    }\n",
       "\n",
       "    .dataframe tbody tr th {\n",
       "        vertical-align: top;\n",
       "    }\n",
       "\n",
       "    .dataframe thead th {\n",
       "        text-align: right;\n",
       "    }\n",
       "</style>\n",
       "<table border=\"1\" class=\"dataframe\">\n",
       "  <thead>\n",
       "    <tr style=\"text-align: right;\">\n",
       "      <th></th>\n",
       "      <th>source</th>\n",
       "      <th>dest</th>\n",
       "    </tr>\n",
       "    <tr>\n",
       "      <th>id</th>\n",
       "      <th></th>\n",
       "      <th></th>\n",
       "    </tr>\n",
       "  </thead>\n",
       "  <tbody>\n",
       "    <tr>\n",
       "      <th>796</th>\n",
       "      <td>95</td>\n",
       "      <td>1185516</td>\n",
       "    </tr>\n",
       "    <tr>\n",
       "      <th>909</th>\n",
       "      <td>108</td>\n",
       "      <td>1059989</td>\n",
       "    </tr>\n",
       "    <tr>\n",
       "      <th>910</th>\n",
       "      <td>108</td>\n",
       "      <td>1062426</td>\n",
       "    </tr>\n",
       "    <tr>\n",
       "      <th>911</th>\n",
       "      <td>108</td>\n",
       "      <td>1161925</td>\n",
       "    </tr>\n",
       "    <tr>\n",
       "      <th>1141</th>\n",
       "      <td>134</td>\n",
       "      <td>541222</td>\n",
       "    </tr>\n",
       "  </tbody>\n",
       "</table>\n",
       "</div>"
      ],
      "text/plain": [
       "      source     dest\n",
       "id                   \n",
       "796       95  1185516\n",
       "909      108  1059989\n",
       "910      108  1062426\n",
       "911      108  1161925\n",
       "1141     134   541222"
      ]
     },
     "execution_count": 13,
     "metadata": {},
     "output_type": "execute_result"
    }
   ],
   "source": [
    "graph_ds.head()"
   ]
  },
  {
   "cell_type": "code",
   "execution_count": 12,
   "metadata": {},
   "outputs": [
    {
     "data": {
      "text/html": [
       "<div>\n",
       "<style scoped>\n",
       "    .dataframe tbody tr th:only-of-type {\n",
       "        vertical-align: middle;\n",
       "    }\n",
       "\n",
       "    .dataframe tbody tr th {\n",
       "        vertical-align: top;\n",
       "    }\n",
       "\n",
       "    .dataframe thead th {\n",
       "        text-align: right;\n",
       "    }\n",
       "</style>\n",
       "<table border=\"1\" class=\"dataframe\">\n",
       "  <thead>\n",
       "    <tr style=\"text-align: right;\">\n",
       "      <th></th>\n",
       "      <th>page</th>\n",
       "      <th>category</th>\n",
       "    </tr>\n",
       "  </thead>\n",
       "  <tbody>\n",
       "    <tr>\n",
       "      <th>0</th>\n",
       "      <td>301</td>\n",
       "      <td>Buprestoidea</td>\n",
       "    </tr>\n",
       "    <tr>\n",
       "      <th>1</th>\n",
       "      <td>302</td>\n",
       "      <td>Buprestoidea</td>\n",
       "    </tr>\n",
       "    <tr>\n",
       "      <th>2</th>\n",
       "      <td>303</td>\n",
       "      <td>Insect families</td>\n",
       "    </tr>\n",
       "    <tr>\n",
       "      <th>3</th>\n",
       "      <td>304</td>\n",
       "      <td>Buprestoidea</td>\n",
       "    </tr>\n",
       "    <tr>\n",
       "      <th>4</th>\n",
       "      <td>305</td>\n",
       "      <td>Buprestoidea</td>\n",
       "    </tr>\n",
       "  </tbody>\n",
       "</table>\n",
       "</div>"
      ],
      "text/plain": [
       "   page         category\n",
       "0   301     Buprestoidea\n",
       "1   302     Buprestoidea\n",
       "2   303  Insect families\n",
       "3   304     Buprestoidea\n",
       "4   305     Buprestoidea"
      ]
     },
     "execution_count": 12,
     "metadata": {},
     "output_type": "execute_result"
    }
   ],
   "source": [
    "category_df.head()"
   ]
  },
  {
   "cell_type": "code",
   "execution_count": 14,
   "metadata": {},
   "outputs": [
    {
     "data": {
      "text/html": [
       "<div>\n",
       "<style scoped>\n",
       "    .dataframe tbody tr th:only-of-type {\n",
       "        vertical-align: middle;\n",
       "    }\n",
       "\n",
       "    .dataframe tbody tr th {\n",
       "        vertical-align: top;\n",
       "    }\n",
       "\n",
       "    .dataframe thead th {\n",
       "        text-align: right;\n",
       "    }\n",
       "</style>\n",
       "<table border=\"1\" class=\"dataframe\">\n",
       "  <thead>\n",
       "    <tr style=\"text-align: right;\">\n",
       "      <th></th>\n",
       "      <th>source</th>\n",
       "      <th>dest</th>\n",
       "      <th>category_source</th>\n",
       "      <th>category_dest</th>\n",
       "    </tr>\n",
       "  </thead>\n",
       "  <tbody>\n",
       "    <tr>\n",
       "      <th>0</th>\n",
       "      <td>95</td>\n",
       "      <td>1185516</td>\n",
       "      <td>Debut albums</td>\n",
       "      <td>Living people</td>\n",
       "    </tr>\n",
       "    <tr>\n",
       "      <th>1</th>\n",
       "      <td>1198096</td>\n",
       "      <td>1185516</td>\n",
       "      <td>Debut albums</td>\n",
       "      <td>Living people</td>\n",
       "    </tr>\n",
       "    <tr>\n",
       "      <th>2</th>\n",
       "      <td>1230864</td>\n",
       "      <td>1185516</td>\n",
       "      <td>Debut albums</td>\n",
       "      <td>Living people</td>\n",
       "    </tr>\n",
       "    <tr>\n",
       "      <th>3</th>\n",
       "      <td>108</td>\n",
       "      <td>1059989</td>\n",
       "      <td>Debut albums</td>\n",
       "      <td>20th Century Fox films</td>\n",
       "    </tr>\n",
       "    <tr>\n",
       "      <th>4</th>\n",
       "      <td>137144</td>\n",
       "      <td>1059989</td>\n",
       "      <td>Bisexual actors</td>\n",
       "      <td>20th Century Fox films</td>\n",
       "    </tr>\n",
       "    <tr>\n",
       "      <th>5</th>\n",
       "      <td>374066</td>\n",
       "      <td>1059989</td>\n",
       "      <td>American films</td>\n",
       "      <td>20th Century Fox films</td>\n",
       "    </tr>\n",
       "    <tr>\n",
       "      <th>6</th>\n",
       "      <td>635998</td>\n",
       "      <td>1059989</td>\n",
       "      <td>Living people</td>\n",
       "      <td>20th Century Fox films</td>\n",
       "    </tr>\n",
       "    <tr>\n",
       "      <th>7</th>\n",
       "      <td>688704</td>\n",
       "      <td>1059989</td>\n",
       "      <td>American female adult models</td>\n",
       "      <td>20th Century Fox films</td>\n",
       "    </tr>\n",
       "    <tr>\n",
       "      <th>8</th>\n",
       "      <td>688741</td>\n",
       "      <td>1059989</td>\n",
       "      <td>Living people</td>\n",
       "      <td>20th Century Fox films</td>\n",
       "    </tr>\n",
       "    <tr>\n",
       "      <th>9</th>\n",
       "      <td>689109</td>\n",
       "      <td>1059989</td>\n",
       "      <td>American film actors</td>\n",
       "      <td>20th Century Fox films</td>\n",
       "    </tr>\n",
       "  </tbody>\n",
       "</table>\n",
       "</div>"
      ],
      "text/plain": [
       "    source     dest               category_source           category_dest\n",
       "0       95  1185516                  Debut albums           Living people\n",
       "1  1198096  1185516                  Debut albums           Living people\n",
       "2  1230864  1185516                  Debut albums           Living people\n",
       "3      108  1059989                  Debut albums  20th Century Fox films\n",
       "4   137144  1059989               Bisexual actors  20th Century Fox films\n",
       "5   374066  1059989                American films  20th Century Fox films\n",
       "6   635998  1059989                 Living people  20th Century Fox films\n",
       "7   688704  1059989  American female adult models  20th Century Fox films\n",
       "8   688741  1059989                 Living people  20th Century Fox films\n",
       "9   689109  1059989          American film actors  20th Century Fox films"
      ]
     },
     "execution_count": 14,
     "metadata": {},
     "output_type": "execute_result"
    }
   ],
   "source": [
    "#associates each nodes with its own category\n",
    "graph_ds = graph_ds.merge(category_df.rename(columns={\"page\": \"source\"}), how = \"inner\", on = \"source\").\\\n",
    "rename(columns={\"category\": \"category_source\"})\n",
    "graph_ds = graph_ds.merge(category_df.rename(columns={\"page\": \"dest\"}), how = \"inner\", on = \"dest\").\\\n",
    "rename(columns={\"category\": \"category_dest\"})\n",
    "graph_ds.head(10)"
   ]
  },
  {
   "cell_type": "code",
   "execution_count": 114,
   "metadata": {},
   "outputs": [
    {
     "data": {
      "text/html": [
       "<div>\n",
       "<style scoped>\n",
       "    .dataframe tbody tr th:only-of-type {\n",
       "        vertical-align: middle;\n",
       "    }\n",
       "\n",
       "    .dataframe tbody tr th {\n",
       "        vertical-align: top;\n",
       "    }\n",
       "\n",
       "    .dataframe thead th {\n",
       "        text-align: right;\n",
       "    }\n",
       "</style>\n",
       "<table border=\"1\" class=\"dataframe\">\n",
       "  <thead>\n",
       "    <tr style=\"text-align: right;\">\n",
       "      <th></th>\n",
       "      <th></th>\n",
       "      <th>number_of_links</th>\n",
       "    </tr>\n",
       "    <tr>\n",
       "      <th>category_source</th>\n",
       "      <th>category_dest</th>\n",
       "      <th></th>\n",
       "    </tr>\n",
       "  </thead>\n",
       "  <tbody>\n",
       "    <tr>\n",
       "      <th rowspan=\"2\" valign=\"top\">1. FC Kaiserslautern players</th>\n",
       "      <th>Expatriate footballers in Belarus</th>\n",
       "      <td>1</td>\n",
       "    </tr>\n",
       "    <tr>\n",
       "      <th>Spain youth international footballers</th>\n",
       "      <td>1</td>\n",
       "    </tr>\n",
       "    <tr>\n",
       "      <th rowspan=\"3\" valign=\"top\">1. FC Kln players</th>\n",
       "      <th>AS Saint-tienne players</th>\n",
       "      <td>1</td>\n",
       "    </tr>\n",
       "    <tr>\n",
       "      <th>Belgian Pro League players</th>\n",
       "      <td>1</td>\n",
       "    </tr>\n",
       "    <tr>\n",
       "      <th>German football managers</th>\n",
       "      <td>1</td>\n",
       "    </tr>\n",
       "    <tr>\n",
       "      <th>...</th>\n",
       "      <th>...</th>\n",
       "      <td>...</td>\n",
       "    </tr>\n",
       "    <tr>\n",
       "      <th rowspan=\"5\" valign=\"top\">guilas Cibaeas players</th>\n",
       "      <th>Cleveland Indians players</th>\n",
       "      <td>1</td>\n",
       "    </tr>\n",
       "    <tr>\n",
       "      <th>Kansas City Royals players</th>\n",
       "      <td>1</td>\n",
       "    </tr>\n",
       "    <tr>\n",
       "      <th>Major League Baseball pitchers</th>\n",
       "      <td>2</td>\n",
       "    </tr>\n",
       "    <tr>\n",
       "      <th>New York Yankees players</th>\n",
       "      <td>1</td>\n",
       "    </tr>\n",
       "    <tr>\n",
       "      <th>Outstanding Performance by a Cast in a Motion Picture Screen Actors Guild Award winners</th>\n",
       "      <td>1</td>\n",
       "    </tr>\n",
       "  </tbody>\n",
       "</table>\n",
       "<p>156248 rows × 1 columns</p>\n",
       "</div>"
      ],
      "text/plain": [
       "                                                                                 number_of_links\n",
       "category_source              category_dest                                                      \n",
       "1. FC Kaiserslautern players Expatriate footballers in Belarus                                 1\n",
       "                             Spain youth international footballers                             1\n",
       "1. FC Kln players            AS Saint-tienne players                                           1\n",
       "                             Belgian Pro League players                                        1\n",
       "                             German football managers                                          1\n",
       "...                                                                                          ...\n",
       "guilas Cibaeas players       Cleveland Indians players                                         1\n",
       "                             Kansas City Royals players                                        1\n",
       "                             Major League Baseball pitchers                                    2\n",
       "                             New York Yankees players                                          1\n",
       "                             Outstanding Performance by a Cast in a Motion P...                1\n",
       "\n",
       "[156248 rows x 1 columns]"
      ]
     },
     "execution_count": 114,
     "metadata": {},
     "output_type": "execute_result"
    }
   ],
   "source": [
    "g = graph_ds.groupby([\"category_source\", \"category_dest\"]).agg(number_of_links = ('source', 'count'))\n",
    "g"
   ]
  },
  {
   "cell_type": "markdown",
   "metadata": {},
   "source": [
    "For istance, looking at the first category \"_1. FC Kaiserslautern players_\" we see that it has two links: one to the category \"_Expatriate footballers in Belarus_\", and the other to \"_Spain youth international footballers_\".\n",
    "In our graph there are, hence, 2 links out of the first category, directed where the second and the category said."
   ]
  },
  {
   "cell_type": "code",
   "execution_count": 25,
   "metadata": {},
   "outputs": [],
   "source": [
    "category_graph = graph_ds[[\"category_source\",\"category_dest\"]]"
   ]
  },
  {
   "cell_type": "code",
   "execution_count": 26,
   "metadata": {},
   "outputs": [
    {
     "data": {
      "text/html": [
       "<div>\n",
       "<style scoped>\n",
       "    .dataframe tbody tr th:only-of-type {\n",
       "        vertical-align: middle;\n",
       "    }\n",
       "\n",
       "    .dataframe tbody tr th {\n",
       "        vertical-align: top;\n",
       "    }\n",
       "\n",
       "    .dataframe thead th {\n",
       "        text-align: right;\n",
       "    }\n",
       "</style>\n",
       "<table border=\"1\" class=\"dataframe\">\n",
       "  <thead>\n",
       "    <tr style=\"text-align: right;\">\n",
       "      <th></th>\n",
       "      <th>category_source</th>\n",
       "      <th>category_dest</th>\n",
       "    </tr>\n",
       "  </thead>\n",
       "  <tbody>\n",
       "    <tr>\n",
       "      <th>0</th>\n",
       "      <td>Debut albums</td>\n",
       "      <td>Living people</td>\n",
       "    </tr>\n",
       "    <tr>\n",
       "      <th>1</th>\n",
       "      <td>Debut albums</td>\n",
       "      <td>Living people</td>\n",
       "    </tr>\n",
       "    <tr>\n",
       "      <th>2</th>\n",
       "      <td>Debut albums</td>\n",
       "      <td>Living people</td>\n",
       "    </tr>\n",
       "    <tr>\n",
       "      <th>3</th>\n",
       "      <td>Debut albums</td>\n",
       "      <td>20th Century Fox films</td>\n",
       "    </tr>\n",
       "    <tr>\n",
       "      <th>4</th>\n",
       "      <td>Bisexual actors</td>\n",
       "      <td>20th Century Fox films</td>\n",
       "    </tr>\n",
       "  </tbody>\n",
       "</table>\n",
       "</div>"
      ],
      "text/plain": [
       "   category_source           category_dest\n",
       "0     Debut albums           Living people\n",
       "1     Debut albums           Living people\n",
       "2     Debut albums           Living people\n",
       "3     Debut albums  20th Century Fox films\n",
       "4  Bisexual actors  20th Century Fox films"
      ]
     },
     "execution_count": 26,
     "metadata": {},
     "output_type": "execute_result"
    }
   ],
   "source": [
    "category_graph.head()"
   ]
  },
  {
   "cell_type": "markdown",
   "metadata": {},
   "source": [
    "Sice the total number of categories are $5001$,  the **adjacency matrix** will be a $5001 \\times 5001$ square matrix.  In order to get it, we first add the missing categories to the columns _category_source_ and _category_dest_."
   ]
  },
  {
   "cell_type": "code",
   "execution_count": 17,
   "metadata": {},
   "outputs": [],
   "source": [
    "categories = set(graph_ds['category_source']).union(set(graph_ds['category_dest']))"
   ]
  },
  {
   "cell_type": "code",
   "execution_count": 50,
   "metadata": {},
   "outputs": [
    {
     "name": "stdout",
     "output_type": "stream",
     "text": [
      "Number of categories: 5001\n"
     ]
    }
   ],
   "source": [
    "print('Number of categories:', len(categories))"
   ]
  },
  {
   "cell_type": "code",
   "execution_count": 55,
   "metadata": {},
   "outputs": [
    {
     "name": "stdout",
     "output_type": "stream",
     "text": [
      "Number of categories missing in the source set:      277\n",
      "Number of categories missing in the destination set: 410\n"
     ]
    }
   ],
   "source": [
    "missing_source_category = categories - set(graph_ds['category_source'])\n",
    "missing_dest_category = categories - set(graph_ds['category_dest'])\n",
    "print('Number of categories missing in the source set:      %d\\nNumber of categories missing in the destination set: %d' %\n",
    "      (len(missing_source_category), len(missing_dest_category)))"
   ]
  },
  {
   "cell_type": "code",
   "execution_count": 38,
   "metadata": {},
   "outputs": [],
   "source": [
    "#add missing categories (source and destination) to the dataframe\n",
    "category_ds = pd.concat(\n",
    "    [category_graph, \n",
    "     pd.DataFrame({'category_source':list(missing_source_category), 'category_dest':[''] * len(missing_source_category)})], \n",
    "    ignore_index = True)\n",
    "category_ds = pd.concat(\n",
    "    [category_ds, \n",
    "     pd.DataFrame({'category_source':[''] * len(missing_dest_category), 'category_dest':list(missing_dest_category)})], \n",
    "    ignore_index = True)"
   ]
  },
  {
   "cell_type": "code",
   "execution_count": 43,
   "metadata": {},
   "outputs": [
    {
     "data": {
      "text/html": [
       "<div>\n",
       "<style scoped>\n",
       "    .dataframe tbody tr th:only-of-type {\n",
       "        vertical-align: middle;\n",
       "    }\n",
       "\n",
       "    .dataframe tbody tr th {\n",
       "        vertical-align: top;\n",
       "    }\n",
       "\n",
       "    .dataframe thead th {\n",
       "        text-align: right;\n",
       "    }\n",
       "</style>\n",
       "<table border=\"1\" class=\"dataframe\">\n",
       "  <thead>\n",
       "    <tr style=\"text-align: right;\">\n",
       "      <th></th>\n",
       "      <th>category_source</th>\n",
       "      <th>category_dest</th>\n",
       "    </tr>\n",
       "  </thead>\n",
       "  <tbody>\n",
       "    <tr>\n",
       "      <th>0</th>\n",
       "      <td>Debut albums</td>\n",
       "      <td>Living people</td>\n",
       "    </tr>\n",
       "    <tr>\n",
       "      <th>1</th>\n",
       "      <td>Debut albums</td>\n",
       "      <td>Living people</td>\n",
       "    </tr>\n",
       "    <tr>\n",
       "      <th>2</th>\n",
       "      <td>Debut albums</td>\n",
       "      <td>Living people</td>\n",
       "    </tr>\n",
       "    <tr>\n",
       "      <th>3</th>\n",
       "      <td>Debut albums</td>\n",
       "      <td>20th Century Fox films</td>\n",
       "    </tr>\n",
       "    <tr>\n",
       "      <th>4</th>\n",
       "      <td>Bisexual actors</td>\n",
       "      <td>20th Century Fox films</td>\n",
       "    </tr>\n",
       "    <tr>\n",
       "      <th>...</th>\n",
       "      <td>...</td>\n",
       "      <td>...</td>\n",
       "    </tr>\n",
       "    <tr>\n",
       "      <th>483776</th>\n",
       "      <td></td>\n",
       "      <td>House of Wittelsbach</td>\n",
       "    </tr>\n",
       "    <tr>\n",
       "      <th>483777</th>\n",
       "      <td></td>\n",
       "      <td>Islamic terrorism</td>\n",
       "    </tr>\n",
       "    <tr>\n",
       "      <th>483778</th>\n",
       "      <td></td>\n",
       "      <td>FIFA World Cup referees</td>\n",
       "    </tr>\n",
       "    <tr>\n",
       "      <th>483779</th>\n",
       "      <td></td>\n",
       "      <td>Moral philosophers</td>\n",
       "    </tr>\n",
       "    <tr>\n",
       "      <th>483780</th>\n",
       "      <td></td>\n",
       "      <td>French engravers</td>\n",
       "    </tr>\n",
       "  </tbody>\n",
       "</table>\n",
       "<p>483781 rows × 2 columns</p>\n",
       "</div>"
      ],
      "text/plain": [
       "        category_source            category_dest\n",
       "0          Debut albums            Living people\n",
       "1          Debut albums            Living people\n",
       "2          Debut albums            Living people\n",
       "3          Debut albums   20th Century Fox films\n",
       "4       Bisexual actors   20th Century Fox films\n",
       "...                 ...                      ...\n",
       "483776                      House of Wittelsbach\n",
       "483777                         Islamic terrorism\n",
       "483778                   FIFA World Cup referees\n",
       "483779                        Moral philosophers\n",
       "483780                          French engravers\n",
       "\n",
       "[483781 rows x 2 columns]"
      ]
     },
     "execution_count": 43,
     "metadata": {},
     "output_type": "execute_result"
    }
   ],
   "source": [
    "category_ds"
   ]
  },
  {
   "cell_type": "code",
   "execution_count": 45,
   "metadata": {},
   "outputs": [],
   "source": [
    "cross = pd.crosstab(category_ds['category_source'], category_ds['category_dest']).drop(columns=['']).drop([''])"
   ]
  },
  {
   "cell_type": "code",
   "execution_count": 46,
   "metadata": {},
   "outputs": [
    {
     "data": {
      "text/html": [
       "<div>\n",
       "<style scoped>\n",
       "    .dataframe tbody tr th:only-of-type {\n",
       "        vertical-align: middle;\n",
       "    }\n",
       "\n",
       "    .dataframe tbody tr th {\n",
       "        vertical-align: top;\n",
       "    }\n",
       "\n",
       "    .dataframe thead th {\n",
       "        text-align: right;\n",
       "    }\n",
       "</style>\n",
       "<table border=\"1\" class=\"dataframe\">\n",
       "  <thead>\n",
       "    <tr style=\"text-align: right;\">\n",
       "      <th>category_dest</th>\n",
       "      <th>1. FC Kaiserslautern players</th>\n",
       "      <th>1. FC Kln players</th>\n",
       "      <th>1. FC Nuremberg players</th>\n",
       "      <th>1. FC Union Berlin players</th>\n",
       "      <th>1. FSV Mainz 05 players</th>\n",
       "      <th>12th-century English people</th>\n",
       "      <th>13th-century Christian saints</th>\n",
       "      <th>13th-century English people</th>\n",
       "      <th>13th-century Roman Catholic bishops</th>\n",
       "      <th>14th-century English people</th>\n",
       "      <th>...</th>\n",
       "      <th>Younger sons of baronets</th>\n",
       "      <th>Younger sons of barons</th>\n",
       "      <th>Younger sons of dukes</th>\n",
       "      <th>Younger sons of earls</th>\n",
       "      <th>Yugoslav films</th>\n",
       "      <th>Yugoslav footballers</th>\n",
       "      <th>Yugoslavia international footballers</th>\n",
       "      <th>ZX Spectrum games</th>\n",
       "      <th>Zombie films</th>\n",
       "      <th>guilas Cibaeas players</th>\n",
       "    </tr>\n",
       "    <tr>\n",
       "      <th>category_source</th>\n",
       "      <th></th>\n",
       "      <th></th>\n",
       "      <th></th>\n",
       "      <th></th>\n",
       "      <th></th>\n",
       "      <th></th>\n",
       "      <th></th>\n",
       "      <th></th>\n",
       "      <th></th>\n",
       "      <th></th>\n",
       "      <th></th>\n",
       "      <th></th>\n",
       "      <th></th>\n",
       "      <th></th>\n",
       "      <th></th>\n",
       "      <th></th>\n",
       "      <th></th>\n",
       "      <th></th>\n",
       "      <th></th>\n",
       "      <th></th>\n",
       "      <th></th>\n",
       "    </tr>\n",
       "  </thead>\n",
       "  <tbody>\n",
       "    <tr>\n",
       "      <th>1. FC Kaiserslautern players</th>\n",
       "      <td>0</td>\n",
       "      <td>0</td>\n",
       "      <td>0</td>\n",
       "      <td>0</td>\n",
       "      <td>0</td>\n",
       "      <td>0</td>\n",
       "      <td>0</td>\n",
       "      <td>0</td>\n",
       "      <td>0</td>\n",
       "      <td>0</td>\n",
       "      <td>...</td>\n",
       "      <td>0</td>\n",
       "      <td>0</td>\n",
       "      <td>0</td>\n",
       "      <td>0</td>\n",
       "      <td>0</td>\n",
       "      <td>0</td>\n",
       "      <td>0</td>\n",
       "      <td>0</td>\n",
       "      <td>0</td>\n",
       "      <td>0</td>\n",
       "    </tr>\n",
       "    <tr>\n",
       "      <th>1. FC Kln players</th>\n",
       "      <td>0</td>\n",
       "      <td>0</td>\n",
       "      <td>0</td>\n",
       "      <td>0</td>\n",
       "      <td>0</td>\n",
       "      <td>0</td>\n",
       "      <td>0</td>\n",
       "      <td>0</td>\n",
       "      <td>0</td>\n",
       "      <td>0</td>\n",
       "      <td>...</td>\n",
       "      <td>0</td>\n",
       "      <td>0</td>\n",
       "      <td>0</td>\n",
       "      <td>0</td>\n",
       "      <td>0</td>\n",
       "      <td>0</td>\n",
       "      <td>0</td>\n",
       "      <td>0</td>\n",
       "      <td>0</td>\n",
       "      <td>0</td>\n",
       "    </tr>\n",
       "    <tr>\n",
       "      <th>1. FC Nuremberg players</th>\n",
       "      <td>0</td>\n",
       "      <td>0</td>\n",
       "      <td>0</td>\n",
       "      <td>0</td>\n",
       "      <td>0</td>\n",
       "      <td>0</td>\n",
       "      <td>0</td>\n",
       "      <td>0</td>\n",
       "      <td>0</td>\n",
       "      <td>0</td>\n",
       "      <td>...</td>\n",
       "      <td>0</td>\n",
       "      <td>0</td>\n",
       "      <td>0</td>\n",
       "      <td>0</td>\n",
       "      <td>0</td>\n",
       "      <td>0</td>\n",
       "      <td>0</td>\n",
       "      <td>0</td>\n",
       "      <td>0</td>\n",
       "      <td>0</td>\n",
       "    </tr>\n",
       "    <tr>\n",
       "      <th>1. FC Union Berlin players</th>\n",
       "      <td>0</td>\n",
       "      <td>0</td>\n",
       "      <td>0</td>\n",
       "      <td>0</td>\n",
       "      <td>0</td>\n",
       "      <td>0</td>\n",
       "      <td>0</td>\n",
       "      <td>0</td>\n",
       "      <td>0</td>\n",
       "      <td>0</td>\n",
       "      <td>...</td>\n",
       "      <td>0</td>\n",
       "      <td>0</td>\n",
       "      <td>0</td>\n",
       "      <td>0</td>\n",
       "      <td>0</td>\n",
       "      <td>0</td>\n",
       "      <td>0</td>\n",
       "      <td>0</td>\n",
       "      <td>0</td>\n",
       "      <td>0</td>\n",
       "    </tr>\n",
       "    <tr>\n",
       "      <th>1. FSV Mainz 05 players</th>\n",
       "      <td>0</td>\n",
       "      <td>0</td>\n",
       "      <td>0</td>\n",
       "      <td>0</td>\n",
       "      <td>0</td>\n",
       "      <td>0</td>\n",
       "      <td>0</td>\n",
       "      <td>0</td>\n",
       "      <td>0</td>\n",
       "      <td>0</td>\n",
       "      <td>...</td>\n",
       "      <td>0</td>\n",
       "      <td>0</td>\n",
       "      <td>0</td>\n",
       "      <td>0</td>\n",
       "      <td>0</td>\n",
       "      <td>0</td>\n",
       "      <td>0</td>\n",
       "      <td>0</td>\n",
       "      <td>0</td>\n",
       "      <td>0</td>\n",
       "    </tr>\n",
       "    <tr>\n",
       "      <th>...</th>\n",
       "      <td>...</td>\n",
       "      <td>...</td>\n",
       "      <td>...</td>\n",
       "      <td>...</td>\n",
       "      <td>...</td>\n",
       "      <td>...</td>\n",
       "      <td>...</td>\n",
       "      <td>...</td>\n",
       "      <td>...</td>\n",
       "      <td>...</td>\n",
       "      <td>...</td>\n",
       "      <td>...</td>\n",
       "      <td>...</td>\n",
       "      <td>...</td>\n",
       "      <td>...</td>\n",
       "      <td>...</td>\n",
       "      <td>...</td>\n",
       "      <td>...</td>\n",
       "      <td>...</td>\n",
       "      <td>...</td>\n",
       "      <td>...</td>\n",
       "    </tr>\n",
       "    <tr>\n",
       "      <th>Yugoslav footballers</th>\n",
       "      <td>0</td>\n",
       "      <td>0</td>\n",
       "      <td>0</td>\n",
       "      <td>0</td>\n",
       "      <td>0</td>\n",
       "      <td>0</td>\n",
       "      <td>0</td>\n",
       "      <td>0</td>\n",
       "      <td>0</td>\n",
       "      <td>0</td>\n",
       "      <td>...</td>\n",
       "      <td>0</td>\n",
       "      <td>0</td>\n",
       "      <td>0</td>\n",
       "      <td>0</td>\n",
       "      <td>0</td>\n",
       "      <td>2</td>\n",
       "      <td>0</td>\n",
       "      <td>0</td>\n",
       "      <td>0</td>\n",
       "      <td>0</td>\n",
       "    </tr>\n",
       "    <tr>\n",
       "      <th>Yugoslavia international footballers</th>\n",
       "      <td>0</td>\n",
       "      <td>0</td>\n",
       "      <td>0</td>\n",
       "      <td>0</td>\n",
       "      <td>0</td>\n",
       "      <td>0</td>\n",
       "      <td>0</td>\n",
       "      <td>0</td>\n",
       "      <td>0</td>\n",
       "      <td>0</td>\n",
       "      <td>...</td>\n",
       "      <td>0</td>\n",
       "      <td>0</td>\n",
       "      <td>0</td>\n",
       "      <td>0</td>\n",
       "      <td>0</td>\n",
       "      <td>0</td>\n",
       "      <td>0</td>\n",
       "      <td>0</td>\n",
       "      <td>0</td>\n",
       "      <td>0</td>\n",
       "    </tr>\n",
       "    <tr>\n",
       "      <th>ZX Spectrum games</th>\n",
       "      <td>0</td>\n",
       "      <td>0</td>\n",
       "      <td>0</td>\n",
       "      <td>0</td>\n",
       "      <td>0</td>\n",
       "      <td>0</td>\n",
       "      <td>0</td>\n",
       "      <td>0</td>\n",
       "      <td>0</td>\n",
       "      <td>0</td>\n",
       "      <td>...</td>\n",
       "      <td>0</td>\n",
       "      <td>0</td>\n",
       "      <td>0</td>\n",
       "      <td>0</td>\n",
       "      <td>0</td>\n",
       "      <td>0</td>\n",
       "      <td>0</td>\n",
       "      <td>0</td>\n",
       "      <td>0</td>\n",
       "      <td>0</td>\n",
       "    </tr>\n",
       "    <tr>\n",
       "      <th>Zombie films</th>\n",
       "      <td>0</td>\n",
       "      <td>0</td>\n",
       "      <td>0</td>\n",
       "      <td>0</td>\n",
       "      <td>0</td>\n",
       "      <td>0</td>\n",
       "      <td>0</td>\n",
       "      <td>0</td>\n",
       "      <td>0</td>\n",
       "      <td>0</td>\n",
       "      <td>...</td>\n",
       "      <td>0</td>\n",
       "      <td>0</td>\n",
       "      <td>0</td>\n",
       "      <td>0</td>\n",
       "      <td>0</td>\n",
       "      <td>0</td>\n",
       "      <td>0</td>\n",
       "      <td>0</td>\n",
       "      <td>0</td>\n",
       "      <td>0</td>\n",
       "    </tr>\n",
       "    <tr>\n",
       "      <th>guilas Cibaeas players</th>\n",
       "      <td>0</td>\n",
       "      <td>0</td>\n",
       "      <td>0</td>\n",
       "      <td>0</td>\n",
       "      <td>0</td>\n",
       "      <td>0</td>\n",
       "      <td>0</td>\n",
       "      <td>0</td>\n",
       "      <td>0</td>\n",
       "      <td>0</td>\n",
       "      <td>...</td>\n",
       "      <td>0</td>\n",
       "      <td>0</td>\n",
       "      <td>0</td>\n",
       "      <td>0</td>\n",
       "      <td>0</td>\n",
       "      <td>0</td>\n",
       "      <td>0</td>\n",
       "      <td>0</td>\n",
       "      <td>0</td>\n",
       "      <td>0</td>\n",
       "    </tr>\n",
       "  </tbody>\n",
       "</table>\n",
       "<p>5001 rows × 5001 columns</p>\n",
       "</div>"
      ],
      "text/plain": [
       "category_dest                         1. FC Kaiserslautern players  \\\n",
       "category_source                                                      \n",
       "1. FC Kaiserslautern players                                     0   \n",
       "1. FC Kln players                                                0   \n",
       "1. FC Nuremberg players                                          0   \n",
       "1. FC Union Berlin players                                       0   \n",
       "1. FSV Mainz 05 players                                          0   \n",
       "...                                                            ...   \n",
       "Yugoslav footballers                                             0   \n",
       "Yugoslavia international footballers                             0   \n",
       "ZX Spectrum games                                                0   \n",
       "Zombie films                                                     0   \n",
       "guilas Cibaeas players                                           0   \n",
       "\n",
       "category_dest                         1. FC Kln players  \\\n",
       "category_source                                           \n",
       "1. FC Kaiserslautern players                          0   \n",
       "1. FC Kln players                                     0   \n",
       "1. FC Nuremberg players                               0   \n",
       "1. FC Union Berlin players                            0   \n",
       "1. FSV Mainz 05 players                               0   \n",
       "...                                                 ...   \n",
       "Yugoslav footballers                                  0   \n",
       "Yugoslavia international footballers                  0   \n",
       "ZX Spectrum games                                     0   \n",
       "Zombie films                                          0   \n",
       "guilas Cibaeas players                                0   \n",
       "\n",
       "category_dest                         1. FC Nuremberg players  \\\n",
       "category_source                                                 \n",
       "1. FC Kaiserslautern players                                0   \n",
       "1. FC Kln players                                           0   \n",
       "1. FC Nuremberg players                                     0   \n",
       "1. FC Union Berlin players                                  0   \n",
       "1. FSV Mainz 05 players                                     0   \n",
       "...                                                       ...   \n",
       "Yugoslav footballers                                        0   \n",
       "Yugoslavia international footballers                        0   \n",
       "ZX Spectrum games                                           0   \n",
       "Zombie films                                                0   \n",
       "guilas Cibaeas players                                      0   \n",
       "\n",
       "category_dest                         1. FC Union Berlin players  \\\n",
       "category_source                                                    \n",
       "1. FC Kaiserslautern players                                   0   \n",
       "1. FC Kln players                                              0   \n",
       "1. FC Nuremberg players                                        0   \n",
       "1. FC Union Berlin players                                     0   \n",
       "1. FSV Mainz 05 players                                        0   \n",
       "...                                                          ...   \n",
       "Yugoslav footballers                                           0   \n",
       "Yugoslavia international footballers                           0   \n",
       "ZX Spectrum games                                              0   \n",
       "Zombie films                                                   0   \n",
       "guilas Cibaeas players                                         0   \n",
       "\n",
       "category_dest                         1. FSV Mainz 05 players  \\\n",
       "category_source                                                 \n",
       "1. FC Kaiserslautern players                                0   \n",
       "1. FC Kln players                                           0   \n",
       "1. FC Nuremberg players                                     0   \n",
       "1. FC Union Berlin players                                  0   \n",
       "1. FSV Mainz 05 players                                     0   \n",
       "...                                                       ...   \n",
       "Yugoslav footballers                                        0   \n",
       "Yugoslavia international footballers                        0   \n",
       "ZX Spectrum games                                           0   \n",
       "Zombie films                                                0   \n",
       "guilas Cibaeas players                                      0   \n",
       "\n",
       "category_dest                         12th-century English people  \\\n",
       "category_source                                                     \n",
       "1. FC Kaiserslautern players                                    0   \n",
       "1. FC Kln players                                               0   \n",
       "1. FC Nuremberg players                                         0   \n",
       "1. FC Union Berlin players                                      0   \n",
       "1. FSV Mainz 05 players                                         0   \n",
       "...                                                           ...   \n",
       "Yugoslav footballers                                            0   \n",
       "Yugoslavia international footballers                            0   \n",
       "ZX Spectrum games                                               0   \n",
       "Zombie films                                                    0   \n",
       "guilas Cibaeas players                                          0   \n",
       "\n",
       "category_dest                         13th-century Christian saints  \\\n",
       "category_source                                                       \n",
       "1. FC Kaiserslautern players                                      0   \n",
       "1. FC Kln players                                                 0   \n",
       "1. FC Nuremberg players                                           0   \n",
       "1. FC Union Berlin players                                        0   \n",
       "1. FSV Mainz 05 players                                           0   \n",
       "...                                                             ...   \n",
       "Yugoslav footballers                                              0   \n",
       "Yugoslavia international footballers                              0   \n",
       "ZX Spectrum games                                                 0   \n",
       "Zombie films                                                      0   \n",
       "guilas Cibaeas players                                            0   \n",
       "\n",
       "category_dest                         13th-century English people  \\\n",
       "category_source                                                     \n",
       "1. FC Kaiserslautern players                                    0   \n",
       "1. FC Kln players                                               0   \n",
       "1. FC Nuremberg players                                         0   \n",
       "1. FC Union Berlin players                                      0   \n",
       "1. FSV Mainz 05 players                                         0   \n",
       "...                                                           ...   \n",
       "Yugoslav footballers                                            0   \n",
       "Yugoslavia international footballers                            0   \n",
       "ZX Spectrum games                                               0   \n",
       "Zombie films                                                    0   \n",
       "guilas Cibaeas players                                          0   \n",
       "\n",
       "category_dest                         13th-century Roman Catholic bishops  \\\n",
       "category_source                                                             \n",
       "1. FC Kaiserslautern players                                            0   \n",
       "1. FC Kln players                                                       0   \n",
       "1. FC Nuremberg players                                                 0   \n",
       "1. FC Union Berlin players                                              0   \n",
       "1. FSV Mainz 05 players                                                 0   \n",
       "...                                                                   ...   \n",
       "Yugoslav footballers                                                    0   \n",
       "Yugoslavia international footballers                                    0   \n",
       "ZX Spectrum games                                                       0   \n",
       "Zombie films                                                            0   \n",
       "guilas Cibaeas players                                                  0   \n",
       "\n",
       "category_dest                         14th-century English people  ...  \\\n",
       "category_source                                                    ...   \n",
       "1. FC Kaiserslautern players                                    0  ...   \n",
       "1. FC Kln players                                               0  ...   \n",
       "1. FC Nuremberg players                                         0  ...   \n",
       "1. FC Union Berlin players                                      0  ...   \n",
       "1. FSV Mainz 05 players                                         0  ...   \n",
       "...                                                           ...  ...   \n",
       "Yugoslav footballers                                            0  ...   \n",
       "Yugoslavia international footballers                            0  ...   \n",
       "ZX Spectrum games                                               0  ...   \n",
       "Zombie films                                                    0  ...   \n",
       "guilas Cibaeas players                                          0  ...   \n",
       "\n",
       "category_dest                         Younger sons of baronets  \\\n",
       "category_source                                                  \n",
       "1. FC Kaiserslautern players                                 0   \n",
       "1. FC Kln players                                            0   \n",
       "1. FC Nuremberg players                                      0   \n",
       "1. FC Union Berlin players                                   0   \n",
       "1. FSV Mainz 05 players                                      0   \n",
       "...                                                        ...   \n",
       "Yugoslav footballers                                         0   \n",
       "Yugoslavia international footballers                         0   \n",
       "ZX Spectrum games                                            0   \n",
       "Zombie films                                                 0   \n",
       "guilas Cibaeas players                                       0   \n",
       "\n",
       "category_dest                         Younger sons of barons  \\\n",
       "category_source                                                \n",
       "1. FC Kaiserslautern players                               0   \n",
       "1. FC Kln players                                          0   \n",
       "1. FC Nuremberg players                                    0   \n",
       "1. FC Union Berlin players                                 0   \n",
       "1. FSV Mainz 05 players                                    0   \n",
       "...                                                      ...   \n",
       "Yugoslav footballers                                       0   \n",
       "Yugoslavia international footballers                       0   \n",
       "ZX Spectrum games                                          0   \n",
       "Zombie films                                               0   \n",
       "guilas Cibaeas players                                     0   \n",
       "\n",
       "category_dest                         Younger sons of dukes  \\\n",
       "category_source                                               \n",
       "1. FC Kaiserslautern players                              0   \n",
       "1. FC Kln players                                         0   \n",
       "1. FC Nuremberg players                                   0   \n",
       "1. FC Union Berlin players                                0   \n",
       "1. FSV Mainz 05 players                                   0   \n",
       "...                                                     ...   \n",
       "Yugoslav footballers                                      0   \n",
       "Yugoslavia international footballers                      0   \n",
       "ZX Spectrum games                                         0   \n",
       "Zombie films                                              0   \n",
       "guilas Cibaeas players                                    0   \n",
       "\n",
       "category_dest                         Younger sons of earls  Yugoslav films  \\\n",
       "category_source                                                               \n",
       "1. FC Kaiserslautern players                              0               0   \n",
       "1. FC Kln players                                         0               0   \n",
       "1. FC Nuremberg players                                   0               0   \n",
       "1. FC Union Berlin players                                0               0   \n",
       "1. FSV Mainz 05 players                                   0               0   \n",
       "...                                                     ...             ...   \n",
       "Yugoslav footballers                                      0               0   \n",
       "Yugoslavia international footballers                      0               0   \n",
       "ZX Spectrum games                                         0               0   \n",
       "Zombie films                                              0               0   \n",
       "guilas Cibaeas players                                    0               0   \n",
       "\n",
       "category_dest                         Yugoslav footballers  \\\n",
       "category_source                                              \n",
       "1. FC Kaiserslautern players                             0   \n",
       "1. FC Kln players                                        0   \n",
       "1. FC Nuremberg players                                  0   \n",
       "1. FC Union Berlin players                               0   \n",
       "1. FSV Mainz 05 players                                  0   \n",
       "...                                                    ...   \n",
       "Yugoslav footballers                                     2   \n",
       "Yugoslavia international footballers                     0   \n",
       "ZX Spectrum games                                        0   \n",
       "Zombie films                                             0   \n",
       "guilas Cibaeas players                                   0   \n",
       "\n",
       "category_dest                         Yugoslavia international footballers  \\\n",
       "category_source                                                              \n",
       "1. FC Kaiserslautern players                                             0   \n",
       "1. FC Kln players                                                        0   \n",
       "1. FC Nuremberg players                                                  0   \n",
       "1. FC Union Berlin players                                               0   \n",
       "1. FSV Mainz 05 players                                                  0   \n",
       "...                                                                    ...   \n",
       "Yugoslav footballers                                                     0   \n",
       "Yugoslavia international footballers                                     0   \n",
       "ZX Spectrum games                                                        0   \n",
       "Zombie films                                                             0   \n",
       "guilas Cibaeas players                                                   0   \n",
       "\n",
       "category_dest                         ZX Spectrum games  Zombie films  \\\n",
       "category_source                                                         \n",
       "1. FC Kaiserslautern players                          0             0   \n",
       "1. FC Kln players                                     0             0   \n",
       "1. FC Nuremberg players                               0             0   \n",
       "1. FC Union Berlin players                            0             0   \n",
       "1. FSV Mainz 05 players                               0             0   \n",
       "...                                                 ...           ...   \n",
       "Yugoslav footballers                                  0             0   \n",
       "Yugoslavia international footballers                  0             0   \n",
       "ZX Spectrum games                                     0             0   \n",
       "Zombie films                                          0             0   \n",
       "guilas Cibaeas players                                0             0   \n",
       "\n",
       "category_dest                         guilas Cibaeas players  \n",
       "category_source                                               \n",
       "1. FC Kaiserslautern players                               0  \n",
       "1. FC Kln players                                          0  \n",
       "1. FC Nuremberg players                                    0  \n",
       "1. FC Union Berlin players                                 0  \n",
       "1. FSV Mainz 05 players                                    0  \n",
       "...                                                      ...  \n",
       "Yugoslav footballers                                       0  \n",
       "Yugoslavia international footballers                       0  \n",
       "ZX Spectrum games                                          0  \n",
       "Zombie films                                               0  \n",
       "guilas Cibaeas players                                     0  \n",
       "\n",
       "[5001 rows x 5001 columns]"
      ]
     },
     "execution_count": 46,
     "metadata": {},
     "output_type": "execute_result"
    }
   ],
   "source": [
    "cross"
   ]
  },
  {
   "cell_type": "code",
   "execution_count": 47,
   "metadata": {},
   "outputs": [],
   "source": [
    "nodes = cross.columns"
   ]
  },
  {
   "cell_type": "code",
   "execution_count": 58,
   "metadata": {},
   "outputs": [],
   "source": [
    "adj_matrix = cross.to_numpy()\n",
    "number_of_cg = adj_matrix.shape[1] #number_of_cg is the number of categories"
   ]
  },
  {
   "cell_type": "code",
   "execution_count": 60,
   "metadata": {},
   "outputs": [
    {
     "name": "stdout",
     "output_type": "stream",
     "text": [
      "numer of rows and columns in the Adjacency matrix\n"
     ]
    },
    {
     "data": {
      "text/plain": [
       "(5001, 5001)"
      ]
     },
     "execution_count": 60,
     "metadata": {},
     "output_type": "execute_result"
    }
   ],
   "source": [
    "print('Number of rows and columns in the Adjacency matrix')\n",
    "adj_matrix.shape"
   ]
  },
  {
   "cell_type": "code",
   "execution_count": 62,
   "metadata": {},
   "outputs": [
    {
     "name": "stdout",
     "output_type": "stream",
     "text": [
      "Number of egdes in the Adjacency matrix:\n"
     ]
    },
    {
     "data": {
      "text/plain": [
       "483094"
      ]
     },
     "execution_count": 62,
     "metadata": {},
     "output_type": "execute_result"
    }
   ],
   "source": [
    "print('Number of egdes in the Adjacency matrix:')\n",
    "sum(sum(adj_matrix))"
   ]
  },
  {
   "cell_type": "markdown",
   "metadata": {},
   "source": [
    "#### Build the Tansition Matrix"
   ]
  },
  {
   "cell_type": "markdown",
   "metadata": {},
   "source": [
    "Now we will retrieve the **Tansition Matrix** starting from the **Adjacency Matrix** follow the formula written above, and considering the probability of teleporting $\\alpha = 0.1$."
   ]
  },
  {
   "cell_type": "markdown",
   "metadata": {},
   "source": [
    "Then we compute the **PageRank** as the entries of the principal left eigenvector of the matrix P — the one with eigenvalue 1. The i-th entries of the eigenvector is the PageRank of the category in the i-th column of the P matrix, so getting the getting the indices of the maximum values in the eigvector we will sort the categories according to PageRank from highest to lowest."
   ]
  },
  {
   "cell_type": "code",
   "execution_count": 102,
   "metadata": {},
   "outputs": [],
   "source": [
    "alpha = 0.1"
   ]
  },
  {
   "cell_type": "code",
   "execution_count": 73,
   "metadata": {},
   "outputs": [],
   "source": [
    "#if a row contains only 0, we replace it with a row of all ones.\n",
    "adj_matrix[np.all(adj_matrix == 0, axis=1)] = np.repeat(1, adj_matrix.shape[1])"
   ]
  },
  {
   "cell_type": "code",
   "execution_count": 86,
   "metadata": {},
   "outputs": [],
   "source": [
    "#divided each row by the sum of element of the row\n",
    "#reference: https://stackoverflow.com/questions/8904694/how-to-normalize-a-2-dimensional-numpy-array-in-python-less-verbose\n",
    "row_sum = adj_matrix.sum(axis=1)\n",
    "adj_matrix = adj_matrix / row_sum[:, np.newaxis]"
   ]
  },
  {
   "cell_type": "code",
   "execution_count": 97,
   "metadata": {},
   "outputs": [
    {
     "data": {
      "text/plain": [
       "True"
      ]
     },
     "execution_count": 97,
     "metadata": {},
     "output_type": "execute_result"
    }
   ],
   "source": [
    "#check if the sum per rows are all equal to one\n",
    "#since we are dealing with float numbers we are gonna use np.isclose()\n",
    "row_sum = adj_matrix.sum(axis=1)\n",
    "all(np.isclose(row_sum,1))"
   ]
  },
  {
   "cell_type": "code",
   "execution_count": 103,
   "metadata": {},
   "outputs": [],
   "source": [
    "P = (alpha/number_of_cg) * np.repeat(1, number_of_cg*number_of_cg).reshape(number_of_cg, number_of_cg) + (1 - alpha) * adj_matrix"
   ]
  },
  {
   "cell_type": "code",
   "execution_count": 104,
   "metadata": {},
   "outputs": [
    {
     "data": {
      "text/plain": [
       "array([[1.99960008e-05, 1.99960008e-05, 1.99960008e-05, ...,\n",
       "        1.99960008e-05, 1.99960008e-05, 1.99960008e-05],\n",
       "       [1.99960008e-05, 1.99960008e-05, 1.99960008e-05, ...,\n",
       "        1.99960008e-05, 1.99960008e-05, 1.99960008e-05],\n",
       "       [1.99960008e-05, 1.99960008e-05, 1.99960008e-05, ...,\n",
       "        1.99960008e-05, 1.99960008e-05, 1.99960008e-05],\n",
       "       ...,\n",
       "       [1.99960008e-05, 1.99960008e-05, 1.99960008e-05, ...,\n",
       "        1.99960008e-05, 1.99960008e-05, 1.99960008e-05],\n",
       "       [1.99960008e-05, 1.99960008e-05, 1.99960008e-05, ...,\n",
       "        1.99960008e-05, 1.99960008e-05, 1.99960008e-05],\n",
       "       [1.99960008e-05, 1.99960008e-05, 1.99960008e-05, ...,\n",
       "        1.99960008e-05, 1.99960008e-05, 1.99960008e-05]])"
      ]
     },
     "execution_count": 104,
     "metadata": {},
     "output_type": "execute_result"
    }
   ],
   "source": [
    "P"
   ]
  },
  {
   "cell_type": "code",
   "execution_count": 106,
   "metadata": {},
   "outputs": [
    {
     "data": {
      "text/plain": [
       "(5001, 5001)"
      ]
     },
     "execution_count": 106,
     "metadata": {},
     "output_type": "execute_result"
    }
   ],
   "source": [
    "P.shape"
   ]
  },
  {
   "cell_type": "code",
   "execution_count": 115,
   "metadata": {},
   "outputs": [
    {
     "data": {
      "text/plain": [
       "array([ 1.00000000e+00+0.00000000e+00j,  8.92891557e-01+0.00000000e+00j,\n",
       "        8.99880540e-01+0.00000000e+00j, ...,\n",
       "        2.98738545e-17+0.00000000e+00j, -1.89249385e-18+1.63969082e-17j,\n",
       "       -1.89249385e-18-1.63969082e-17j])"
      ]
     },
     "execution_count": 115,
     "metadata": {},
     "output_type": "execute_result"
    }
   ],
   "source": [
    "#eigvalues of P \n",
    "linalg.eigvals(P)"
   ]
  },
  {
   "cell_type": "code",
   "execution_count": 109,
   "metadata": {},
   "outputs": [],
   "source": [
    "#left eigvector of transition matrix P, corrisponding to the eingvalue 1\n",
    "v = linalg.eig(P, left=True, right=False)[1][:,0]\n",
    "v = np.abs(v)"
   ]
  },
  {
   "cell_type": "code",
   "execution_count": 117,
   "metadata": {},
   "outputs": [
    {
     "data": {
      "text/plain": [
       "array([0.00060792, 0.00036388, 0.00083971, ..., 0.00058727, 0.00128782,\n",
       "       0.00068307])"
      ]
     },
     "execution_count": 117,
     "metadata": {},
     "output_type": "execute_result"
    }
   ],
   "source": [
    "v"
   ]
  },
  {
   "cell_type": "code",
   "execution_count": 131,
   "metadata": {},
   "outputs": [
    {
     "name": "stdout",
     "output_type": "stream",
     "text": [
      "indices of the maximum values:\n",
      "[3049  718 2144 ... 2493 4339 1525]\n"
     ]
    }
   ],
   "source": [
    "ideces_pr = np.argsort(-v)\n",
    "print('indices of the maximum values:')\n",
    "print(ideces_pr)"
   ]
  },
  {
   "cell_type": "markdown",
   "metadata": {},
   "source": [
    "###### Top 100 categories based on PageRank "
   ]
  },
  {
   "cell_type": "markdown",
   "metadata": {},
   "source": [
    "For clarity of representation, we show the first 100 categories:"
   ]
  },
  {
   "cell_type": "code",
   "execution_count": 127,
   "metadata": {},
   "outputs": [
    {
     "name": "stdout",
     "output_type": "stream",
     "text": [
      "1) Living people\n",
      "2) American film actors\n",
      "3) English-language films\n",
      "4) American television actors\n",
      "5) American films\n",
      "6) English footballers\n",
      "7) Black-and-white films\n",
      "8) Members of the United Kingdom Parliament for English constituencies\n",
      "9) American silent film actors\n",
      "10) American stage actors\n",
      "11) Main Belt asteroids\n",
      "12) The Football League players\n",
      "13) Harvard University alumni\n",
      "14) Major League Baseball pitchers\n",
      "15) Year of death missing\n",
      "16) American voice actors\n",
      "17) Conservative Party (UK) MPs\n",
      "18) Year of birth missing\n",
      "19) Premier League players\n",
      "20) Actors from New York City\n",
      "21) Actors from California\n",
      "22) Deaths from myocardial infarction\n",
      "23) Members of the Privy Council of the United Kingdom\n",
      "24) English football managers\n",
      "25) American people of Irish descent\n",
      "26) Association football forwards\n",
      "27) Association football midfielders\n",
      "28) American film producers\n",
      "29) Rivers of Romania\n",
      "30) American comedy films\n",
      "31) England international footballers\n",
      "32) American film directors\n",
      "33) 20th-century actors\n",
      "34) American child actors\n",
      "35) American people of English descent\n",
      "36) American soap opera actors\n",
      "37) American screenwriters\n",
      "38) Place of birth missing (living people)\n",
      "39) American drama films\n",
      "40) People from New York City\n",
      "41) Association football defenders\n",
      "42) Liberal Party (UK) MPs\n",
      "43) Emmy Award winners\n",
      "44) Films based on novels\n",
      "45) Paramount Pictures films\n",
      "46) 20th Century Fox films\n",
      "47) Warner Bros. films\n",
      "48) American comedians\n",
      "49) Actors from New York\n",
      "50) Debut albums\n",
      "51) People from the Greater Los Angeles Area\n",
      "52) Universal Pictures films\n",
      "53) Cancer deaths in California\n",
      "54) Vaudeville performers\n",
      "55) American female singers\n",
      "56) American Jews\n",
      "57) American actors\n",
      "58) UK MPs 19972001\n",
      "59) Metro-Goldwyn-Mayer films\n",
      "60) Indian films\n",
      "61) 2000s comedy films\n",
      "62) Scottish footballers\n",
      "63) Independent films\n",
      "64) Columbia Pictures films\n",
      "65) American romantic comedy films\n",
      "66) Silent films\n",
      "67) United States National Film Registry films\n",
      "68) 2000s drama films\n",
      "69) Year of birth missing (living people)\n",
      "70) Jewish actors\n",
      "71) Short films\n",
      "72) Films set in New York City\n",
      "73) American military personnel of World War II\n",
      "74) 1998 FIFA World Cup players\n",
      "75) UK MPs 18371841\n",
      "76) Manchester United F.C. players\n",
      "77) 1990s drama films\n",
      "78) La Liga footballers\n",
      "79) Directorial debut films\n",
      "80) American female models\n",
      "81) American horror films\n",
      "82) American people of Italian descent\n",
      "83) People from Brooklyn\n",
      "84) Premier League managers\n",
      "85) Sequel films\n",
      "86) Labour Party (UK) MPs\n",
      "87) UK MPs 2010\n",
      "88) British films\n",
      "89) England under-21 international footballers\n",
      "90) American comedy-drama films\n",
      "91) 21st-century actors\n",
      "92) American silent films\n",
      "93) American Roman Catholics\n",
      "94) 2007 films\n",
      "95) Films based on plays\n",
      "96) Actors from Massachusetts\n",
      "97) 1980s comedy films\n",
      "98) 2006 films\n",
      "99) The Football League managers\n",
      "100) Actors from New Jersey\n"
     ]
    }
   ],
   "source": [
    "i = 1\n",
    "for c in nodes[ideces_pr[:100]]:\n",
    "    print('%d) %s'%(i, c))\n",
    "    i += 1"
   ]
  }
 ],
 "metadata": {
  "kernelspec": {
   "display_name": "Python 3",
   "language": "python",
   "name": "python3"
  },
  "language_info": {
   "codemirror_mode": {
    "name": "ipython",
    "version": 3
   },
   "file_extension": ".py",
   "mimetype": "text/x-python",
   "name": "python",
   "nbconvert_exporter": "python",
   "pygments_lexer": "ipython3",
   "version": "3.8.3"
  }
 },
 "nbformat": 4,
 "nbformat_minor": 4
}
